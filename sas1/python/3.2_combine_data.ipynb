{
 "cells": [
  {
   "cell_type": "markdown",
   "metadata": {},
   "source": [
    "# Reading in Data"
   ]
  },
  {
   "cell_type": "code",
   "execution_count": 68,
   "metadata": {},
   "outputs": [],
   "source": [
    "import pandas as pd"
   ]
  },
  {
   "cell_type": "code",
   "execution_count": 69,
   "metadata": {},
   "outputs": [],
   "source": [
    "# Reading our local files\n",
    "\n",
    "subscriptions_df = pd.read_csv('../data/input/subscriptions.csv')\n",
    "techsupportevals_df = pd.read_sas('../data/input/techsupportevals.sas7bdat')\n",
    "raw_json = pd.read_json('../data/input/reviews.json')\n",
    "reviews_df = pd.DataFrame.from_records(raw_json['reviews'])\n"
   ]
  },
  {
   "cell_type": "code",
   "execution_count": 70,
   "metadata": {},
   "outputs": [],
   "source": [
    "# Connecting to GCS & Snowflake => see the other files\n",
    "\n",
    "# Getting the data\n",
    "cust_churn_df = pd.read_parquet(\"../data/input/gcs/customer_churn_data.parquet\")\n",
    "customers_df = pd.read_sas('../data/input/snowflake/customers.sas7bdat')"
   ]
  },
  {
   "cell_type": "markdown",
   "metadata": {},
   "source": [
    "## Joining the Data"
   ]
  },
  {
   "cell_type": "code",
   "execution_count": 71,
   "metadata": {},
   "outputs": [],
   "source": [
    "df = pd.merge(cust_churn_df,customers_df, on='custId',how='inner').drop(columns='custId')"
   ]
  },
  {
   "cell_type": "code",
   "execution_count": 72,
   "metadata": {},
   "outputs": [
    {
     "data": {
      "text/plain": [
       "Index(['ID', 'LostCustomer', 'regionPctCustomers', 'numOfTotalReturns',\n",
       "       'wksSinceLastPurch', 'basktPurchCount12Month', 'LastPurchaseAmount',\n",
       "       'AvgPurchaseAmount12', 'AvgPurchaseAmountTotal', 'intAdExposureCount12',\n",
       "       'intAdExposureCount36', 'intAdExposureCountAll', 'socialMediaAdCount12',\n",
       "       'socialMediaAdCount36', 'socialMediaAdCountAll',\n",
       "       'totalNumProdPurchased', 'custInitiatedContacts', 'avgDiscountValue12',\n",
       "       'customersales', 'wksSinceFirstPurch', 'reviewId', 'DemHomeOwnerCode',\n",
       "       'customerGender', 'EstimatedIncome', 'regionMedHomeVal',\n",
       "       'customerSubscrCode', 'birthDate'],\n",
       "      dtype='object')"
      ]
     },
     "execution_count": 72,
     "metadata": {},
     "output_type": "execute_result"
    }
   ],
   "source": [
    "df.columns"
   ]
  },
  {
   "cell_type": "code",
   "execution_count": 73,
   "metadata": {},
   "outputs": [],
   "source": [
    "df = df.merge(subscriptions_df, on='customerSubscrCode',how='inner').drop(columns='customerSubscrCode')"
   ]
  },
  {
   "cell_type": "code",
   "execution_count": 74,
   "metadata": {},
   "outputs": [],
   "source": [
    "df = df.merge(techsupportevals_df, on='ID',how='inner')"
   ]
  },
  {
   "cell_type": "code",
   "execution_count": 75,
   "metadata": {},
   "outputs": [
    {
     "data": {
      "text/plain": [
       "782"
      ]
     },
     "execution_count": 75,
     "metadata": {},
     "output_type": "execute_result"
    }
   ],
   "source": [
    "len(reviews_df)"
   ]
  },
  {
   "cell_type": "code",
   "execution_count": 76,
   "metadata": {},
   "outputs": [
    {
     "data": {
      "text/plain": [
       "4218"
      ]
     },
     "execution_count": 76,
     "metadata": {},
     "output_type": "execute_result"
    }
   ],
   "source": [
    "df['reviewId'].isna().sum()"
   ]
  },
  {
   "cell_type": "code",
   "execution_count": 77,
   "metadata": {},
   "outputs": [],
   "source": [
    "df = df.merge(reviews_df, on='reviewId',how='left').drop(columns='reviewId')"
   ]
  },
  {
   "cell_type": "code",
   "execution_count": 78,
   "metadata": {},
   "outputs": [
    {
     "data": {
      "text/html": [
       "<div>\n",
       "<style scoped>\n",
       "    .dataframe tbody tr th:only-of-type {\n",
       "        vertical-align: middle;\n",
       "    }\n",
       "\n",
       "    .dataframe tbody tr th {\n",
       "        vertical-align: top;\n",
       "    }\n",
       "\n",
       "    .dataframe thead th {\n",
       "        text-align: right;\n",
       "    }\n",
       "</style>\n",
       "<table border=\"1\" class=\"dataframe\">\n",
       "  <thead>\n",
       "    <tr style=\"text-align: right;\">\n",
       "      <th></th>\n",
       "      <th>ID</th>\n",
       "      <th>LostCustomer</th>\n",
       "      <th>regionPctCustomers</th>\n",
       "      <th>numOfTotalReturns</th>\n",
       "      <th>wksSinceLastPurch</th>\n",
       "      <th>basktPurchCount12Month</th>\n",
       "      <th>LastPurchaseAmount</th>\n",
       "      <th>AvgPurchaseAmount12</th>\n",
       "      <th>AvgPurchaseAmountTotal</th>\n",
       "      <th>intAdExposureCount12</th>\n",
       "      <th>...</th>\n",
       "      <th>wksSinceFirstPurch</th>\n",
       "      <th>DemHomeOwnerCode</th>\n",
       "      <th>customerGender</th>\n",
       "      <th>EstimatedIncome</th>\n",
       "      <th>regionMedHomeVal</th>\n",
       "      <th>birthDate</th>\n",
       "      <th>customerSubscrStat</th>\n",
       "      <th>techSupportEval</th>\n",
       "      <th>Review_Text</th>\n",
       "      <th>Title</th>\n",
       "    </tr>\n",
       "  </thead>\n",
       "  <tbody>\n",
       "    <tr>\n",
       "      <th>0</th>\n",
       "      <td>9155.0</td>\n",
       "      <td>0.0</td>\n",
       "      <td>43.0</td>\n",
       "      <td>0.0</td>\n",
       "      <td>14.0</td>\n",
       "      <td>10.0</td>\n",
       "      <td>50.0</td>\n",
       "      <td>0.0</td>\n",
       "      <td>55.65</td>\n",
       "      <td>27.0</td>\n",
       "      <td>...</td>\n",
       "      <td>89.0</td>\n",
       "      <td>b'U'</td>\n",
       "      <td>b'F'</td>\n",
       "      <td>93000.0</td>\n",
       "      <td>59280.0</td>\n",
       "      <td>2004-11-13</td>\n",
       "      <td>Platinum</td>\n",
       "      <td>3.0</td>\n",
       "      <td>NaN</td>\n",
       "      <td>NaN</td>\n",
       "    </tr>\n",
       "    <tr>\n",
       "      <th>1</th>\n",
       "      <td>9160.0</td>\n",
       "      <td>0.0</td>\n",
       "      <td>19.0</td>\n",
       "      <td>1.0</td>\n",
       "      <td>19.0</td>\n",
       "      <td>3.0</td>\n",
       "      <td>50.0</td>\n",
       "      <td>62.5</td>\n",
       "      <td>61.90</td>\n",
       "      <td>13.0</td>\n",
       "      <td>...</td>\n",
       "      <td>89.0</td>\n",
       "      <td>b'H'</td>\n",
       "      <td>b'M'</td>\n",
       "      <td>84000.0</td>\n",
       "      <td>170820.0</td>\n",
       "      <td>1974-03-14</td>\n",
       "      <td>Platinum</td>\n",
       "      <td>3.0</td>\n",
       "      <td>NaN</td>\n",
       "      <td>NaN</td>\n",
       "    </tr>\n",
       "    <tr>\n",
       "      <th>2</th>\n",
       "      <td>9163.0</td>\n",
       "      <td>0.0</td>\n",
       "      <td>19.0</td>\n",
       "      <td>0.0</td>\n",
       "      <td>7.0</td>\n",
       "      <td>10.0</td>\n",
       "      <td>50.0</td>\n",
       "      <td>0.0</td>\n",
       "      <td>35.20</td>\n",
       "      <td>32.0</td>\n",
       "      <td>...</td>\n",
       "      <td>148.0</td>\n",
       "      <td>b'H'</td>\n",
       "      <td>b'F'</td>\n",
       "      <td>140000.0</td>\n",
       "      <td>92430.0</td>\n",
       "      <td>2006-02-22</td>\n",
       "      <td>Platinum</td>\n",
       "      <td>2.0</td>\n",
       "      <td>NaN</td>\n",
       "      <td>NaN</td>\n",
       "    </tr>\n",
       "    <tr>\n",
       "      <th>3</th>\n",
       "      <td>9170.0</td>\n",
       "      <td>0.0</td>\n",
       "      <td>33.0</td>\n",
       "      <td>5.0</td>\n",
       "      <td>7.0</td>\n",
       "      <td>2.0</td>\n",
       "      <td>50.0</td>\n",
       "      <td>40.0</td>\n",
       "      <td>34.75</td>\n",
       "      <td>31.0</td>\n",
       "      <td>...</td>\n",
       "      <td>93.0</td>\n",
       "      <td>b'U'</td>\n",
       "      <td>b'F'</td>\n",
       "      <td>142000.0</td>\n",
       "      <td>53430.0</td>\n",
       "      <td>2006-04-19</td>\n",
       "      <td>Platinum</td>\n",
       "      <td>2.0</td>\n",
       "      <td>NaN</td>\n",
       "      <td>NaN</td>\n",
       "    </tr>\n",
       "    <tr>\n",
       "      <th>4</th>\n",
       "      <td>9175.0</td>\n",
       "      <td>0.0</td>\n",
       "      <td>22.0</td>\n",
       "      <td>0.0</td>\n",
       "      <td>6.0</td>\n",
       "      <td>10.0</td>\n",
       "      <td>50.0</td>\n",
       "      <td>0.0</td>\n",
       "      <td>62.95</td>\n",
       "      <td>40.0</td>\n",
       "      <td>...</td>\n",
       "      <td>137.0</td>\n",
       "      <td>b'H'</td>\n",
       "      <td>b'F'</td>\n",
       "      <td>83000.0</td>\n",
       "      <td>443690.0</td>\n",
       "      <td>2002-02-23</td>\n",
       "      <td>Platinum</td>\n",
       "      <td>2.0</td>\n",
       "      <td>NaN</td>\n",
       "      <td>NaN</td>\n",
       "    </tr>\n",
       "  </tbody>\n",
       "</table>\n",
       "<p>5 rows × 29 columns</p>\n",
       "</div>"
      ],
      "text/plain": [
       "       ID  LostCustomer  regionPctCustomers  numOfTotalReturns  \\\n",
       "0  9155.0           0.0                43.0                0.0   \n",
       "1  9160.0           0.0                19.0                1.0   \n",
       "2  9163.0           0.0                19.0                0.0   \n",
       "3  9170.0           0.0                33.0                5.0   \n",
       "4  9175.0           0.0                22.0                0.0   \n",
       "\n",
       "   wksSinceLastPurch  basktPurchCount12Month  LastPurchaseAmount  \\\n",
       "0               14.0                    10.0                50.0   \n",
       "1               19.0                     3.0                50.0   \n",
       "2                7.0                    10.0                50.0   \n",
       "3                7.0                     2.0                50.0   \n",
       "4                6.0                    10.0                50.0   \n",
       "\n",
       "   AvgPurchaseAmount12  AvgPurchaseAmountTotal  intAdExposureCount12  ...  \\\n",
       "0                  0.0                   55.65                  27.0  ...   \n",
       "1                 62.5                   61.90                  13.0  ...   \n",
       "2                  0.0                   35.20                  32.0  ...   \n",
       "3                 40.0                   34.75                  31.0  ...   \n",
       "4                  0.0                   62.95                  40.0  ...   \n",
       "\n",
       "   wksSinceFirstPurch  DemHomeOwnerCode  customerGender  EstimatedIncome  \\\n",
       "0                89.0              b'U'            b'F'          93000.0   \n",
       "1                89.0              b'H'            b'M'          84000.0   \n",
       "2               148.0              b'H'            b'F'         140000.0   \n",
       "3                93.0              b'U'            b'F'         142000.0   \n",
       "4               137.0              b'H'            b'F'          83000.0   \n",
       "\n",
       "   regionMedHomeVal  birthDate  customerSubscrStat  techSupportEval  \\\n",
       "0           59280.0 2004-11-13            Platinum              3.0   \n",
       "1          170820.0 1974-03-14            Platinum              3.0   \n",
       "2           92430.0 2006-02-22            Platinum              2.0   \n",
       "3           53430.0 2006-04-19            Platinum              2.0   \n",
       "4          443690.0 2002-02-23            Platinum              2.0   \n",
       "\n",
       "   Review_Text  Title  \n",
       "0          NaN    NaN  \n",
       "1          NaN    NaN  \n",
       "2          NaN    NaN  \n",
       "3          NaN    NaN  \n",
       "4          NaN    NaN  \n",
       "\n",
       "[5 rows x 29 columns]"
      ]
     },
     "execution_count": 78,
     "metadata": {},
     "output_type": "execute_result"
    }
   ],
   "source": [
    "df.head()"
   ]
  },
  {
   "cell_type": "code",
   "execution_count": 79,
   "metadata": {},
   "outputs": [
    {
     "name": "stdout",
     "output_type": "stream",
     "text": [
      "<class 'pandas.core.frame.DataFrame'>\n",
      "RangeIndex: 5000 entries, 0 to 4999\n",
      "Data columns (total 29 columns):\n",
      " #   Column                  Non-Null Count  Dtype        \n",
      "---  ------                  --------------  -----        \n",
      " 0   ID                      5000 non-null   float64      \n",
      " 1   LostCustomer            5000 non-null   float64      \n",
      " 2   regionPctCustomers      5000 non-null   float64      \n",
      " 3   numOfTotalReturns       5000 non-null   float64      \n",
      " 4   wksSinceLastPurch       5000 non-null   float64      \n",
      " 5   basktPurchCount12Month  5000 non-null   float64      \n",
      " 6   LastPurchaseAmount      5000 non-null   float64      \n",
      " 7   AvgPurchaseAmount12     5000 non-null   float64      \n",
      " 8   AvgPurchaseAmountTotal  5000 non-null   float64      \n",
      " 9   intAdExposureCount12    5000 non-null   float64      \n",
      " 10  intAdExposureCount36    5000 non-null   float64      \n",
      " 11  intAdExposureCountAll   5000 non-null   float64      \n",
      " 12  socialMediaAdCount12    5000 non-null   float64      \n",
      " 13  socialMediaAdCount36    5000 non-null   float64      \n",
      " 14  socialMediaAdCountAll   5000 non-null   float64      \n",
      " 15  totalNumProdPurchased   5000 non-null   float64      \n",
      " 16  custInitiatedContacts   5000 non-null   float64      \n",
      " 17  avgDiscountValue12      3618 non-null   float64      \n",
      " 18  customersales           5000 non-null   float64      \n",
      " 19  wksSinceFirstPurch      5000 non-null   float64      \n",
      " 20  DemHomeOwnerCode        5000 non-null   object       \n",
      " 21  customerGender          5000 non-null   object       \n",
      " 22  EstimatedIncome         5000 non-null   float64      \n",
      " 23  regionMedHomeVal        5000 non-null   float64      \n",
      " 24  birthDate               3741 non-null   datetime64[s]\n",
      " 25  customerSubscrStat      5000 non-null   object       \n",
      " 26  techSupportEval         4730 non-null   float64      \n",
      " 27  Review_Text             782 non-null    object       \n",
      " 28  Title                   782 non-null    object       \n",
      "dtypes: datetime64[s](1), float64(23), object(5)\n",
      "memory usage: 1.1+ MB\n"
     ]
    }
   ],
   "source": [
    "df.info()"
   ]
  },
  {
   "cell_type": "markdown",
   "metadata": {},
   "source": [
    "## Feature Engeneering"
   ]
  },
  {
   "cell_type": "code",
   "execution_count": 80,
   "metadata": {},
   "outputs": [
    {
     "data": {
      "text/plain": [
       "DemHomeOwnerCode\n",
       "b'H'    2756\n",
       "b'U'    2244\n",
       "Name: count, dtype: int64"
      ]
     },
     "execution_count": 80,
     "metadata": {},
     "output_type": "execute_result"
    }
   ],
   "source": [
    "df['DemHomeOwnerCode'].value_counts()"
   ]
  },
  {
   "cell_type": "code",
   "execution_count": 81,
   "metadata": {},
   "outputs": [],
   "source": [
    "df['demHomeowner'] = df[\"DemHomeOwnerCode\"].map({'U':'Unknown','H':'Homeowner'})\n",
    "df.drop(columns='DemHomeOwnerCode', inplace=True)"
   ]
  },
  {
   "cell_type": "code",
   "execution_count": 82,
   "metadata": {},
   "outputs": [
    {
     "data": {
      "text/plain": [
       "Series([], Name: count, dtype: int64)"
      ]
     },
     "execution_count": 82,
     "metadata": {},
     "output_type": "execute_result"
    }
   ],
   "source": [
    "df['demHomeowner'].value_counts()"
   ]
  },
  {
   "cell_type": "code",
   "execution_count": 83,
   "metadata": {},
   "outputs": [
    {
     "data": {
      "text/plain": [
       "0   2004-11-13\n",
       "1   1974-03-14\n",
       "2   2006-02-22\n",
       "3   2006-04-19\n",
       "4   2002-02-23\n",
       "Name: birthDate, dtype: datetime64[s]"
      ]
     },
     "execution_count": 83,
     "metadata": {},
     "output_type": "execute_result"
    }
   ],
   "source": [
    "df['birthDate'].head()"
   ]
  },
  {
   "cell_type": "code",
   "execution_count": 84,
   "metadata": {},
   "outputs": [],
   "source": [
    "import numpy as np\n",
    "\n",
    "df['customerAge'] = ((pd.Timestamp.now()-pd.to_datetime(df['birthDate'])).dt.days / 365.25)"
   ]
  },
  {
   "cell_type": "code",
   "execution_count": 85,
   "metadata": {},
   "outputs": [
    {
     "data": {
      "text/plain": [
       "0    20.262834\n",
       "1    50.932238\n",
       "2    18.986995\n",
       "3    18.833676\n",
       "4    22.984257\n",
       "Name: customerAge, dtype: float64"
      ]
     },
     "execution_count": 85,
     "metadata": {},
     "output_type": "execute_result"
    }
   ],
   "source": [
    "df['customerAge'].head()"
   ]
  },
  {
   "cell_type": "code",
   "execution_count": 86,
   "metadata": {},
   "outputs": [],
   "source": [
    "df['customerAge'] = df['customerAge'].apply(lambda x: int(x) if pd.notnull(x) else np.nan)\n",
    "df.drop(columns='birthDate', inplace=True)"
   ]
  },
  {
   "cell_type": "code",
   "execution_count": 88,
   "metadata": {},
   "outputs": [
    {
     "data": {
      "text/plain": [
       "0    20.0\n",
       "1    50.0\n",
       "2    18.0\n",
       "3    18.0\n",
       "4    22.0\n",
       "Name: customerAge, dtype: float64"
      ]
     },
     "execution_count": 88,
     "metadata": {},
     "output_type": "execute_result"
    }
   ],
   "source": [
    "df['customerAge'].head()"
   ]
  },
  {
   "cell_type": "code",
   "execution_count": 87,
   "metadata": {},
   "outputs": [],
   "source": [
    "df['AvgPurchasePerAd'] = df['AvgPurchaseAmount12'] / df['intAdExposureCount12']"
   ]
  },
  {
   "cell_type": "code",
   "execution_count": 89,
   "metadata": {},
   "outputs": [
    {
     "data": {
      "text/html": [
       "<div>\n",
       "<style scoped>\n",
       "    .dataframe tbody tr th:only-of-type {\n",
       "        vertical-align: middle;\n",
       "    }\n",
       "\n",
       "    .dataframe tbody tr th {\n",
       "        vertical-align: top;\n",
       "    }\n",
       "\n",
       "    .dataframe thead th {\n",
       "        text-align: right;\n",
       "    }\n",
       "</style>\n",
       "<table border=\"1\" class=\"dataframe\">\n",
       "  <thead>\n",
       "    <tr style=\"text-align: right;\">\n",
       "      <th></th>\n",
       "      <th>ID</th>\n",
       "      <th>LostCustomer</th>\n",
       "      <th>regionPctCustomers</th>\n",
       "      <th>numOfTotalReturns</th>\n",
       "      <th>wksSinceLastPurch</th>\n",
       "      <th>basktPurchCount12Month</th>\n",
       "      <th>LastPurchaseAmount</th>\n",
       "      <th>AvgPurchaseAmount12</th>\n",
       "      <th>AvgPurchaseAmountTotal</th>\n",
       "      <th>intAdExposureCount12</th>\n",
       "      <th>...</th>\n",
       "      <th>customerGender</th>\n",
       "      <th>EstimatedIncome</th>\n",
       "      <th>regionMedHomeVal</th>\n",
       "      <th>customerSubscrStat</th>\n",
       "      <th>techSupportEval</th>\n",
       "      <th>Review_Text</th>\n",
       "      <th>Title</th>\n",
       "      <th>demHomeowner</th>\n",
       "      <th>customerAge</th>\n",
       "      <th>AvgPurchasePerAd</th>\n",
       "    </tr>\n",
       "  </thead>\n",
       "  <tbody>\n",
       "    <tr>\n",
       "      <th>0</th>\n",
       "      <td>9155.0</td>\n",
       "      <td>0.0</td>\n",
       "      <td>43.0</td>\n",
       "      <td>0.0</td>\n",
       "      <td>14.0</td>\n",
       "      <td>10.0</td>\n",
       "      <td>50.0</td>\n",
       "      <td>0.0</td>\n",
       "      <td>55.65</td>\n",
       "      <td>27.0</td>\n",
       "      <td>...</td>\n",
       "      <td>b'F'</td>\n",
       "      <td>93000.0</td>\n",
       "      <td>59280.0</td>\n",
       "      <td>Platinum</td>\n",
       "      <td>3.0</td>\n",
       "      <td>NaN</td>\n",
       "      <td>NaN</td>\n",
       "      <td>NaN</td>\n",
       "      <td>20.0</td>\n",
       "      <td>0.000000</td>\n",
       "    </tr>\n",
       "    <tr>\n",
       "      <th>1</th>\n",
       "      <td>9160.0</td>\n",
       "      <td>0.0</td>\n",
       "      <td>19.0</td>\n",
       "      <td>1.0</td>\n",
       "      <td>19.0</td>\n",
       "      <td>3.0</td>\n",
       "      <td>50.0</td>\n",
       "      <td>62.5</td>\n",
       "      <td>61.90</td>\n",
       "      <td>13.0</td>\n",
       "      <td>...</td>\n",
       "      <td>b'M'</td>\n",
       "      <td>84000.0</td>\n",
       "      <td>170820.0</td>\n",
       "      <td>Platinum</td>\n",
       "      <td>3.0</td>\n",
       "      <td>NaN</td>\n",
       "      <td>NaN</td>\n",
       "      <td>NaN</td>\n",
       "      <td>50.0</td>\n",
       "      <td>4.807692</td>\n",
       "    </tr>\n",
       "    <tr>\n",
       "      <th>2</th>\n",
       "      <td>9163.0</td>\n",
       "      <td>0.0</td>\n",
       "      <td>19.0</td>\n",
       "      <td>0.0</td>\n",
       "      <td>7.0</td>\n",
       "      <td>10.0</td>\n",
       "      <td>50.0</td>\n",
       "      <td>0.0</td>\n",
       "      <td>35.20</td>\n",
       "      <td>32.0</td>\n",
       "      <td>...</td>\n",
       "      <td>b'F'</td>\n",
       "      <td>140000.0</td>\n",
       "      <td>92430.0</td>\n",
       "      <td>Platinum</td>\n",
       "      <td>2.0</td>\n",
       "      <td>NaN</td>\n",
       "      <td>NaN</td>\n",
       "      <td>NaN</td>\n",
       "      <td>18.0</td>\n",
       "      <td>0.000000</td>\n",
       "    </tr>\n",
       "    <tr>\n",
       "      <th>3</th>\n",
       "      <td>9170.0</td>\n",
       "      <td>0.0</td>\n",
       "      <td>33.0</td>\n",
       "      <td>5.0</td>\n",
       "      <td>7.0</td>\n",
       "      <td>2.0</td>\n",
       "      <td>50.0</td>\n",
       "      <td>40.0</td>\n",
       "      <td>34.75</td>\n",
       "      <td>31.0</td>\n",
       "      <td>...</td>\n",
       "      <td>b'F'</td>\n",
       "      <td>142000.0</td>\n",
       "      <td>53430.0</td>\n",
       "      <td>Platinum</td>\n",
       "      <td>2.0</td>\n",
       "      <td>NaN</td>\n",
       "      <td>NaN</td>\n",
       "      <td>NaN</td>\n",
       "      <td>18.0</td>\n",
       "      <td>1.290323</td>\n",
       "    </tr>\n",
       "    <tr>\n",
       "      <th>4</th>\n",
       "      <td>9175.0</td>\n",
       "      <td>0.0</td>\n",
       "      <td>22.0</td>\n",
       "      <td>0.0</td>\n",
       "      <td>6.0</td>\n",
       "      <td>10.0</td>\n",
       "      <td>50.0</td>\n",
       "      <td>0.0</td>\n",
       "      <td>62.95</td>\n",
       "      <td>40.0</td>\n",
       "      <td>...</td>\n",
       "      <td>b'F'</td>\n",
       "      <td>83000.0</td>\n",
       "      <td>443690.0</td>\n",
       "      <td>Platinum</td>\n",
       "      <td>2.0</td>\n",
       "      <td>NaN</td>\n",
       "      <td>NaN</td>\n",
       "      <td>NaN</td>\n",
       "      <td>22.0</td>\n",
       "      <td>0.000000</td>\n",
       "    </tr>\n",
       "  </tbody>\n",
       "</table>\n",
       "<p>5 rows × 30 columns</p>\n",
       "</div>"
      ],
      "text/plain": [
       "       ID  LostCustomer  regionPctCustomers  numOfTotalReturns  \\\n",
       "0  9155.0           0.0                43.0                0.0   \n",
       "1  9160.0           0.0                19.0                1.0   \n",
       "2  9163.0           0.0                19.0                0.0   \n",
       "3  9170.0           0.0                33.0                5.0   \n",
       "4  9175.0           0.0                22.0                0.0   \n",
       "\n",
       "   wksSinceLastPurch  basktPurchCount12Month  LastPurchaseAmount  \\\n",
       "0               14.0                    10.0                50.0   \n",
       "1               19.0                     3.0                50.0   \n",
       "2                7.0                    10.0                50.0   \n",
       "3                7.0                     2.0                50.0   \n",
       "4                6.0                    10.0                50.0   \n",
       "\n",
       "   AvgPurchaseAmount12  AvgPurchaseAmountTotal  intAdExposureCount12  ...  \\\n",
       "0                  0.0                   55.65                  27.0  ...   \n",
       "1                 62.5                   61.90                  13.0  ...   \n",
       "2                  0.0                   35.20                  32.0  ...   \n",
       "3                 40.0                   34.75                  31.0  ...   \n",
       "4                  0.0                   62.95                  40.0  ...   \n",
       "\n",
       "   customerGender  EstimatedIncome  regionMedHomeVal  customerSubscrStat  \\\n",
       "0            b'F'          93000.0           59280.0            Platinum   \n",
       "1            b'M'          84000.0          170820.0            Platinum   \n",
       "2            b'F'         140000.0           92430.0            Platinum   \n",
       "3            b'F'         142000.0           53430.0            Platinum   \n",
       "4            b'F'          83000.0          443690.0            Platinum   \n",
       "\n",
       "   techSupportEval  Review_Text  Title  demHomeowner  customerAge  \\\n",
       "0              3.0          NaN    NaN           NaN         20.0   \n",
       "1              3.0          NaN    NaN           NaN         50.0   \n",
       "2              2.0          NaN    NaN           NaN         18.0   \n",
       "3              2.0          NaN    NaN           NaN         18.0   \n",
       "4              2.0          NaN    NaN           NaN         22.0   \n",
       "\n",
       "   AvgPurchasePerAd  \n",
       "0          0.000000  \n",
       "1          4.807692  \n",
       "2          0.000000  \n",
       "3          1.290323  \n",
       "4          0.000000  \n",
       "\n",
       "[5 rows x 30 columns]"
      ]
     },
     "execution_count": 89,
     "metadata": {},
     "output_type": "execute_result"
    }
   ],
   "source": [
    "df.head()"
   ]
  },
  {
   "cell_type": "markdown",
   "metadata": {},
   "source": [
    "## Saving Our Work"
   ]
  },
  {
   "cell_type": "code",
   "execution_count": 90,
   "metadata": {},
   "outputs": [],
   "source": [
    "df.to_csv('../data/output/customer_churn_abt_python.csv')"
   ]
  },
  {
   "cell_type": "code",
   "execution_count": null,
   "metadata": {},
   "outputs": [],
   "source": [
    "gcs_key = ('../key/gel-sas-reader.json')\n",
    "\n",
    "bucket_name = 'sas1-learn'\n",
    "\n",
    "output_filename = 'customer_churn_abt.parquet'\n",
    "output_path = f'gcs://{bucket_name}/data/{output_filename}'\n",
    "\n",
    "df.to_parquet(\n",
    "    output_path,\n",
    "    engine='pyarrow',\n",
    "    storage_options={'token':gcs_key}\n",
    ")\n",
    "\n",
    "print(f\"DataFrame written to {output_path}\")"
   ]
  },
  {
   "cell_type": "code",
   "execution_count": null,
   "metadata": {},
   "outputs": [],
   "source": [
    "from snowflake.connector.pandas_tools import write_pandas\n",
    "\n",
    "conn = sf.connector.connect(**sf_credential_dict)\n",
    "\n",
    "success,nchuncks,nrows,output = write_pandas(\n",
    "    conn=conn,\n",
    "    df=df,\n",
    "    table_name='CUSTOMER_CHURN_AB1'\n",
    ")\n",
    "\n",
    "conn.close()"
   ]
  }
 ],
 "metadata": {
  "kernelspec": {
   "display_name": "Python 3",
   "language": "python",
   "name": "python3"
  },
  "language_info": {
   "codemirror_mode": {
    "name": "ipython",
    "version": 3
   },
   "file_extension": ".py",
   "mimetype": "text/x-python",
   "name": "python",
   "nbconvert_exporter": "python",
   "pygments_lexer": "ipython3",
   "version": "3.11.11"
  }
 },
 "nbformat": 4,
 "nbformat_minor": 2
}
