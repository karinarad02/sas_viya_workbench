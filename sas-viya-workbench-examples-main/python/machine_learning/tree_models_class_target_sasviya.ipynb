{
 "cells": [
  {
   "cell_type": "markdown",
   "metadata": {},
   "source": [
    "## Tree Based Modeling for Class Target (Python & SAS Viya)\n",
    "\n",
    "**EXAMPLE:** Tree Based Modeling for Class Target using Python & SAS Viya  \n",
    "**DATA SOURCE:**  \n",
    "Training Data: adult_train.csv, Testing Data: adult_test.csv   \n",
    "Becker, B. and Kohavi, R. (1996). Adult. UCI Machine Learning Repository. [Link](https://doi.org/10.24432/C5XW20)  \n",
    "\n",
    "**DESCRIPTION:** This template demonstrates a workflow for preprocessing data in Python and building predictive models using tree-based modeling techniques in SAS Viya.  \n",
    "**PURPOSE:** The goal is to predict the likelihood of a binary outcome, in this case, whether income exceeds $50K/yr.  \n",
    "**DETAILS:**  \n",
    "- Data preprocessing is performed in Python, including one-hot encoding of categorical variables.\n",
    "- Classification Models built in SAS Viya include: Decision Tree, Forest, and Gradient Boosting.\n",
    "- Score the test data.\n",
    "- Model Assessment: Confusion Matrix and Classification Report.\n",
    "- Model Comparison: ROC curves are plotted to assess the performance of each model in predicting events along with AUC score.\n"
   ]
  },
  {
   "cell_type": "code",
   "execution_count": null,
   "metadata": {},
   "outputs": [],
   "source": [
    "# Importing necessary libraries\n",
    "import os\n",
    "import pandas as pd\n",
    "import numpy as np\n",
    "import warnings\n",
    "import matplotlib.pyplot as plt\n",
    "import seaborn as sn\n",
    "from sasviya.ml.tree import DecisionTreeClassifier, ForestClassifier, GradientBoostingClassifier\n",
    "from sklearn.metrics import classification_report, confusion_matrix, roc_curve, roc_auc_score\n",
    "\n",
    "# Suppress warnings\n",
    "warnings.filterwarnings(\"ignore\")"
   ]
  },
  {
   "cell_type": "markdown",
   "metadata": {},
   "source": [
    "### Data Loading and Preprocessing\n",
    "- **Importing Data and Defining Variables**\n",
    "    - Load the dataset for both training and testing partition.\n",
    "    - Define variables necessary for further analysis.\n",
    "- **Perform One-Hot Encoding for Categorical Variables**\n",
    "    - Encode categorical variables as one-hot vectors to prepare the data for modeling."
   ]
  },
  {
   "cell_type": "code",
   "execution_count": null,
   "metadata": {},
   "outputs": [],
   "source": [
    "# Construct the workspace path\n",
    "workspace = f\"{os.path.abspath('')}/../../data/\"\n",
    "\n",
    "# Importing Data and Defining Variables\n",
    "train_data = pd.read_csv(workspace + \"adult_train.csv\")\n",
    "test_data = pd.read_csv(workspace + \"adult_test.csv\")\n",
    "\n",
    "# Encode categorical variables as one-hot vectors\n",
    "X_train_encoded = pd.get_dummies(train_data.drop(columns=['target']))\n",
    "X_test_encoded = pd.get_dummies(test_data.drop(columns=['target']))\n",
    "\n",
    "# Reindex the testing dataset with the columns from the training dataset\n",
    "X_test_encoded = X_test_encoded.reindex(columns=X_train_encoded.columns, fill_value=0)\n",
    "\n",
    "# Check the shape of the training data after one-hot encoding\n",
    "print(\"Shape of X_train_encoded:\", X_train_encoded.shape)\n",
    "\n",
    "# Print first 5 rows of train dataset\n",
    "print(\"Top 5 rows of adult_train:\")\n",
    "print(train_data.head(5))"
   ]
  },
  {
   "cell_type": "markdown",
   "metadata": {},
   "source": [
    "### Decision Tree Model Training, Scoring and Evaluation  \n",
    "\n",
    "For more information regarding SAS Viya Decision Tree Classifier, refer to [this link](https://documentation.sas.com/?cdcId=workbenchcdc&cdcVersion=default&docsetId=explore&docsetTarget=p14rqs4yfhf5bcn1js9nlfgzx795.htm).\n"
   ]
  },
  {
   "cell_type": "code",
   "execution_count": null,
   "metadata": {},
   "outputs": [],
   "source": [
    "# Initialize the SAS Viya Decision Tree classifier\n",
    "sas_dtree = DecisionTreeClassifier(max_depth=5)\n",
    "\n",
    "# Fit the model\n",
    "sas_dtree.fit(X_train_encoded, train_data['target'])\n",
    "\n",
    "# Score on the test partition\n",
    "y_pred_tree = sas_dtree.predict(X_test_encoded)\n",
    "\n",
    "# Calculate predicted probabilities for the positive class ('>50K')\n",
    "y_pred_proba_tree = sas_dtree.predict_proba(X_test_encoded)['P_target_50K'].values\n",
    "\n",
    "# Convert categorical target variable to binary labels\n",
    "y_test_binary = test_data['target'].replace({'<=50K': 0, '>50K': 1})\n"
   ]
  },
  {
   "cell_type": "markdown",
   "metadata": {},
   "source": [
    "**Decision Tree Model Evaluation**  \n",
    "&emsp; Generate Confusion Matrix, ROC curve, and Compute AUC Score\n"
   ]
  },
  {
   "cell_type": "code",
   "execution_count": null,
   "metadata": {},
   "outputs": [],
   "source": [
    "# Generate confusion matrix, classification report, ROC curve, and compute AUC score for Decision Tree\n",
    "conf_matrix_tree = confusion_matrix(test_data['target'], y_pred_tree)\n",
    "fpr_tree, tpr_tree, thresholds_tree = roc_curve(y_test_binary, y_pred_proba_tree)\n",
    "roc_auc_tree = roc_auc_score(y_test_binary, y_pred_proba_tree)\n",
    "\n",
    "# Plot confusion matrix for Decision Tree using seaborn\n",
    "plt.figure(figsize=(8, 6))\n",
    "sn.heatmap(conf_matrix_tree, annot=True, fmt=\"d\", cmap=\"Blues\", xticklabels=['<=50K', '>50K'], yticklabels=['<=50K', '>50K'])\n",
    "plt.title('Confusion Matrix for Decision Tree')\n",
    "plt.xlabel('Predicted label')\n",
    "plt.ylabel('True label')\n",
    "plt.show()\n",
    "\n",
    "# Plot ROC curve for Decision Tree\n",
    "plt.plot(fpr_tree, tpr_tree, color='blue', lw=2, label='Decision Tree ROC curve (AUC = %0.2f)' % roc_auc_tree)\n",
    "plt.legend(loc=\"lower right\")\n",
    "plt.xlabel('False Positive Rate')\n",
    "plt.ylabel('True Positive Rate')\n",
    "plt.title('ROC Curve for Decision Tree')\n",
    "plt.show()"
   ]
  },
  {
   "cell_type": "markdown",
   "metadata": {},
   "source": [
    "### Forest Model Training, Scoring and Evaluation\n",
    "For more information regarding SAS Viya Forest Classifier, refer to [this link](https://documentation.sas.com/?cdcId=workbenchcdc&cdcVersion=default&docsetId=explore&docsetTarget=p04zhxjh60eutqn1t40f0104gw42.htm).\n"
   ]
  },
  {
   "cell_type": "code",
   "execution_count": null,
   "metadata": {},
   "outputs": [],
   "source": [
    "# Initialize the SAS Viya Forest classifier\n",
    "sas_forest_model = ForestClassifier(n_estimators=100, max_depth=5, random_state=12345)\n",
    "\n",
    "# Fit the model\n",
    "sas_forest_model.fit(X_train_encoded, train_data['target'])\n",
    "\n",
    "# Score on the test partition\n",
    "y_pred_rf = sas_forest_model.predict(X_test_encoded)\n",
    "\n",
    "# Calculate predicted probabilities for the positive class ('>50K')\n",
    "y_pred_proba_rf = sas_forest_model.predict_proba(X_test_encoded)['P_target_50K'].values\n"
   ]
  },
  {
   "cell_type": "markdown",
   "metadata": {},
   "source": [
    "**Forest Model Evaluation**  \n",
    "&emsp; Generate Confusion Matrix, ROC curve, and Compute AUC Score"
   ]
  },
  {
   "cell_type": "code",
   "execution_count": null,
   "metadata": {},
   "outputs": [],
   "source": [
    "conf_matrix_rf = confusion_matrix(test_data['target'], y_pred_rf)\n",
    "fpr_rf, tpr_rf, thresholds_rf = roc_curve(y_test_binary, y_pred_proba_rf)\n",
    "roc_auc_rf = roc_auc_score(y_test_binary, y_pred_proba_rf)\n",
    "\n",
    "# Plot confusion matrix for Forest\n",
    "plt.figure(figsize=(8, 6))\n",
    "sn.heatmap(conf_matrix_rf, annot=True, fmt=\"d\", cmap=\"Reds\", xticklabels=['<=50K', '>50K'], yticklabels=['<=50K', '>50K'])\n",
    "plt.title('Confusion Matrix for Forest')\n",
    "plt.xlabel('Predicted label')\n",
    "plt.ylabel('True label')\n",
    "plt.show()\n",
    "\n",
    "# Plot ROC curve for Forest\n",
    "plt.plot(fpr_rf, tpr_rf, color='red', lw=2, label='Forest ROC curve (AUC = %0.2f)' % roc_auc_rf)\n",
    "plt.plot([0, 1], [0, 1], color='gray', linestyle='--')\n",
    "plt.xlim([0.0, 1.0])\n",
    "plt.ylim([0.0, 1.05])\n",
    "plt.xlabel('False Positive Rate')\n",
    "plt.ylabel('True Positive Rate')\n",
    "plt.title('ROC Curves')\n",
    "plt.legend(loc=\"lower right\")"
   ]
  },
  {
   "cell_type": "markdown",
   "metadata": {},
   "source": [
    "### Gradient Boosting Model Training, Scoring and Evaluation\n",
    "For more information regarding SAS Viya Gradient Boosting Classifier, refer to [this link](https://documentation.sas.com/?cdcId=workbenchcdc&cdcVersion=default&docsetId=explore&docsetTarget=n1kiea90s0276wn1xr0ig0hvkix6.htm).\n"
   ]
  },
  {
   "cell_type": "code",
   "execution_count": null,
   "metadata": {},
   "outputs": [],
   "source": [
    "# Initialize the SAS Viya Gradient Boosting classifier\n",
    "sas_gb_model = GradientBoostingClassifier(n_estimators=100, max_depth=5, random_state=12345)\n",
    "\n",
    "# Fit the model\n",
    "sas_gb_model.fit(X_train_encoded, train_data['target'])\n",
    "\n",
    "# Score on the test partition\n",
    "y_pred_gb = sas_gb_model.predict(X_test_encoded)\n",
    "\n",
    "# Calculate predicted probabilities for the positive class ('>50K')\n",
    "y_pred_proba_gb = sas_gb_model.predict_proba(X_test_encoded)['P_target_50K'].values"
   ]
  },
  {
   "cell_type": "markdown",
   "metadata": {},
   "source": [
    "**Gradient Boosting Model Evaluation**  \n",
    "&emsp; Generate Confusion Matrix, ROC curve, and Compute AUC Score"
   ]
  },
  {
   "cell_type": "code",
   "execution_count": null,
   "metadata": {},
   "outputs": [],
   "source": [
    "conf_matrix_gb = confusion_matrix(test_data['target'], y_pred_gb)\n",
    "fpr_gb, tpr_gb, thresholds_gb = roc_curve(y_test_binary, y_pred_proba_gb)\n",
    "roc_auc_gb = roc_auc_score(y_test_binary, y_pred_proba_gb)\n",
    "\n",
    "# Plot confusion matrix for Gradient Boosting \n",
    "plt.figure(figsize=(8, 6))\n",
    "sn.heatmap(conf_matrix_gb, annot=True, fmt=\"d\", cmap=\"Greens\", xticklabels=['<=50K', '>50K'], yticklabels=['<=50K', '>50K'])\n",
    "plt.title('Confusion Matrix for Gradient Boosting')\n",
    "plt.xlabel('Predicted label')\n",
    "plt.ylabel('True label')\n",
    "plt.show()\n",
    "\n",
    "# Plot ROC curve for Gradient Boosting\n",
    "plt.plot(fpr_gb, tpr_gb, color='green', lw=2, label='Gradient Boosting ROC curve (AUC = %0.2f)' % roc_auc_gb)\n",
    "plt.plot([0, 1], [0, 1], color='gray', linestyle='--')\n",
    "plt.xlim([0.0, 1.0])\n",
    "plt.ylim([0.0, 1.05])\n",
    "plt.xlabel('False Positive Rate')\n",
    "plt.ylabel('True Positive Rate')\n",
    "plt.title('ROC Curves')\n",
    "plt.legend(loc=\"lower right\")\n",
    "plt.show()"
   ]
  },
  {
   "cell_type": "markdown",
   "metadata": {},
   "source": [
    "### Overall Model Comparsion\n",
    "&emsp; Compare F1 Scores across the models"
   ]
  },
  {
   "cell_type": "code",
   "execution_count": null,
   "metadata": {},
   "outputs": [],
   "source": [
    "# Extract F1 scores from classification reports\n",
    "class_reports = {\n",
    "    'Decision Tree': classification_report(test_data['target'], y_pred_tree, output_dict=True)['weighted avg']['f1-score'],\n",
    "    'Forest': classification_report(test_data['target'], y_pred_rf, output_dict=True)['weighted avg']['f1-score'],\n",
    "    'Gradient Boosting': classification_report(test_data['target'], y_pred_gb, output_dict=True)['weighted avg']['f1-score']\n",
    "}\n",
    "\n",
    "# Extract model names and F1 scores\n",
    "model_names, f1_values = list(class_reports.keys()), list(class_reports.values())\n",
    "\n",
    "# Plotting\n",
    "plt.figure(figsize=(8, 6))\n",
    "bars = plt.bar(model_names, f1_values, color=['blue', 'red', 'green'])\n",
    "plt.title('F1 Score Comparison for All Models')\n",
    "plt.xlabel('Model')\n",
    "plt.ylabel('F1 Score')\n",
    "plt.ylim(0, 1)  # Set y-axis limit to ensure readability\n",
    "\n",
    "# Add text annotations for F1 scores on the bars\n",
    "for bar, f1_score in zip(bars, f1_values):\n",
    "    plt.text(bar.get_x() + bar.get_width() / 2, bar.get_height() - 0.05, f'{f1_score:.2f}', ha='center', color='black')\n",
    "\n",
    "plt.show()\n"
   ]
  }
 ],
 "metadata": {
  "kernelspec": {
   "display_name": "Python 3",
   "language": "python",
   "name": "python3"
  },
  "language_info": {
   "codemirror_mode": {
    "name": "ipython",
    "version": 3
   },
   "file_extension": ".py",
   "mimetype": "text/x-python",
   "name": "python",
   "nbconvert_exporter": "python",
   "pygments_lexer": "ipython3",
   "version": "3.11.5"
  }
 },
 "nbformat": 4,
 "nbformat_minor": 2
}
