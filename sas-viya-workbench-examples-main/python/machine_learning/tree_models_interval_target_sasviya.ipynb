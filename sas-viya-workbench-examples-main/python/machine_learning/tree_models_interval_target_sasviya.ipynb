{
 "cells": [
  {
   "cell_type": "markdown",
   "metadata": {},
   "source": [
    "## Tree Based Modeling for Interval Target (SAS Viya)\n",
    "\n",
    "**EXAMPLE:** Tree Based Modeling for Class Target using Python & SAS Viya  \n",
    "**DATA SOURCE:**  \n",
    "Data: bike_sharing_demand.csv   \n",
    "Fanaee-T, H. (2013). Bike Sharing Dataset. UCI Machine Learning Repository. [Link](https://doi.org/10.24432/C5W894) \n",
    "\n",
    "**DESCRIPTION:** This template demonstrates a workflow for preprocessing data in Python and building predictive models using tree-based modeling techniques in SAS Viya.  \n",
    "**PURPOSE:** The goal is to predict the count of bikes rented per hour using various predictor variables, such as weather, season, temperature, hour, month, and weekday.  \n",
    "**DETAILS:**  \n",
    "- Models built in SAS Viya include: Decision Tree, Forest, and Gradient Boosting\n",
    "- Score the validation and test data\n",
    "- Model Assessment & Model Comparison: Feature Importance and Mean Square Error plots\n"
   ]
  },
  {
   "cell_type": "code",
   "execution_count": null,
   "metadata": {},
   "outputs": [],
   "source": [
    "# Importing necessary libraries\n",
    "import os\n",
    "import pandas as pd\n",
    "import warnings\n",
    "from sklearn.model_selection import train_test_split\n",
    "from sklearn.metrics import mean_squared_error\n",
    "import matplotlib.pyplot as plt\n",
    "from sasviya.ml.tree import DecisionTreeRegressor, ForestRegressor, GradientBoostingRegressor\n",
    "\n",
    "# Suppress warnings\n",
    "warnings.filterwarnings(\"ignore\")"
   ]
  },
  {
   "cell_type": "markdown",
   "metadata": {},
   "source": [
    "### Data Loading and Preprocessing\n",
    "- **Importing Data and Defining Variables**\n",
    "    - Load the dataset\n",
    "    - Define variables necessary for further analysis."
   ]
  },
  {
   "cell_type": "code",
   "execution_count": null,
   "metadata": {},
   "outputs": [],
   "source": [
    "# Construct the workspace path\n",
    "workspace = f\"{os.path.abspath('')}/../../data/\"\n",
    "\n",
    "# Importing Data and Defining Variables\n",
    "data = pd.read_csv(workspace + \"bike_sharing_demand.csv\")\n",
    "\n",
    "# Splitting the data into Train, Validation, and Test sets (40% Train, 30% Validation, 30% Test)\n",
    "train_data, temp_test_data = train_test_split(data, test_size=0.6, random_state=42)\n",
    "val_data, test_data = train_test_split(temp_test_data, test_size=0.5, random_state=42)\n",
    "\n",
    "# Create X and y variables for modeling\n",
    "X_train, y_train = train_data.drop(columns=['count']), train_data['count']\n",
    "X_val, y_val = val_data.drop(columns=['count']), val_data['count']\n",
    "X_test, y_test = test_data.drop(columns=['count']), test_data['count']\n",
    "\n",
    "# Print first 5 rows of train dataset\n",
    "print(\"Top 5 rows of bikesharing train dataset:\")\n",
    "print(train_data.head(5))"
   ]
  },
  {
   "cell_type": "markdown",
   "metadata": {},
   "source": [
    "### Decision Tree Model Training, Scoring and Evaluation  \n",
    "\n",
    "For more information regarding SAS Viya Decision Tree Regressor, refer to [this link](https://documentation.sas.com/?cdcId=workbenchcdc&cdcVersion=default&docsetId=explore&docsetTarget=n1q2r5bpivhhavn1kcqs4cf2ase6.htm).\n"
   ]
  },
  {
   "cell_type": "code",
   "execution_count": null,
   "metadata": {},
   "outputs": [],
   "source": [
    "# Initialize the SAS Viya Decision Tree Regressor\n",
    "sas_dtree = DecisionTreeRegressor(criterion='variance')\n",
    "\n",
    "# Fit the model\n",
    "sas_dtree.fit(X_train, y_train)\n",
    "\n",
    "# Make predictions on training data\n",
    "train_predictions = sas_dtree.predict(X_train)\n",
    "\n",
    "# Evaluate model's performance on training data\n",
    "dt_train_mse = mean_squared_error(y_train, train_predictions)\n",
    "print(f\"Training Mean Squared Error (Decision Tree): {dt_train_mse:.3f}\")\n",
    "\n",
    "# Make predictions on validation data\n",
    "val_predictions = sas_dtree.predict(X_val)\n",
    "\n",
    "# Evaluate model's performance on validation data\n",
    "dt_val_mse = mean_squared_error(y_val, val_predictions)\n",
    "print(f\"Validation Mean Squared Error (Decision Tree): {dt_val_mse:.3f}\")\n",
    "\n",
    "# Make predictions on test data\n",
    "test_predictions = sas_dtree.predict(X_test)\n",
    "\n",
    "# Evaluate model's performance on test data\n",
    "dt_test_mse = mean_squared_error(y_test, test_predictions)\n",
    "print(f\"Test Mean Squared Error (Decision Tree): {dt_test_mse:.3f}\")"
   ]
  },
  {
   "cell_type": "markdown",
   "metadata": {},
   "source": [
    "### Forest Model Training, Scoring and Evaluation\n",
    "For more information regarding SAS Viya Forest Regressor, refer to [this link](https://documentation.sas.com/?cdcId=workbenchcdc&cdcVersion=default&docsetId=explore&docsetTarget=n0ridmyac4ramsn10hbcolej70jv.htm).\n"
   ]
  },
  {
   "cell_type": "code",
   "execution_count": null,
   "metadata": {},
   "outputs": [],
   "source": [
    "# Initialize the SAS Viya Forest Regressor\n",
    "sas_forest_model = ForestRegressor(n_estimators=100, random_state=42)\n",
    "\n",
    "# Fit the model\n",
    "sas_forest_model.fit(X_train, y_train)\n",
    "\n",
    "# Make predictions on training data\n",
    "rf_train_predictions = sas_forest_model.predict(X_train)\n",
    "\n",
    "# Evaluate model's performance on training data\n",
    "rf_train_mse = mean_squared_error(y_train, rf_train_predictions)\n",
    "print(f\"Training Mean Squared Error (Forest): {rf_train_mse:.3f}\")\n",
    "\n",
    "# Make predictions on validation data\n",
    "rf_val_predictions = sas_forest_model.predict(X_val)\n",
    "\n",
    "# Evaluate model's performance on validation data\n",
    "rf_val_mse = mean_squared_error(y_val, rf_val_predictions)\n",
    "print(f\"Validation Mean Squared Error (Forest): {rf_val_mse:.3f}\")\n",
    "\n",
    "# Make predictions on test data\n",
    "rf_test_predictions = sas_forest_model.predict(X_test)\n",
    "\n",
    "# Evaluate model's performance on test data\n",
    "rf_test_mse = mean_squared_error(y_test, rf_test_predictions)\n",
    "print(f\"Test Mean Squared Error (Forest): {rf_test_mse:.3f}\")"
   ]
  },
  {
   "cell_type": "markdown",
   "metadata": {},
   "source": [
    "### Gradient Boosting Model Training, Scoring and Evaluation\n",
    "For more information regarding SAS Viya Gradient Boosting Regressor, refer to [this link](https://documentation.sas.com/?cdcId=workbenchcdc&cdcVersion=default&docsetId=explore&docsetTarget=p1qf6527qwg4g5n179gglp8xzlgi.htm).\n"
   ]
  },
  {
   "cell_type": "code",
   "execution_count": null,
   "metadata": {},
   "outputs": [],
   "source": [
    "# Initialize the SAS Viya Gradient Boosting Regressor\n",
    "sas_gb_model = GradientBoostingRegressor(n_estimators=100, random_state=42,calc_feature_importances=True)\n",
    "\n",
    "# Fit the model\n",
    "sas_gb_model.fit(X_train, y_train)\n",
    "\n",
    "# Make predictions on training data\n",
    "gb_train_predictions = sas_gb_model.predict(X_train)\n",
    "\n",
    "# Evaluate model's performance on training data\n",
    "gb_train_mse = mean_squared_error(y_train, gb_train_predictions)\n",
    "print(f\"Gradient Boosting Training Mean Squared Error: {gb_train_mse:.3f}\")\n",
    "\n",
    "# Make predictions on validation data\n",
    "gb_val_predictions  = sas_gb_model.predict(X_val)\n",
    "\n",
    "# Evaluate model's performance on validation data\n",
    "gb_val_mse = mean_squared_error(y_val, gb_val_predictions)\n",
    "print(f\"Gradient Boosting Validation Mean Squared Error: {gb_val_mse:.3f}\")\n",
    "\n",
    "# Make predictions on test data\n",
    "gb_test_predictions = sas_gb_model.predict(X_test)\n",
    "\n",
    "# Evaluate model's performance on test data\n",
    "gb_test_mse = mean_squared_error(y_test, gb_test_predictions)\n",
    "print(f\"Test Mean Squared Error (Gradient Boosting): {gb_test_mse:.3f}\")"
   ]
  },
  {
   "cell_type": "markdown",
   "metadata": {},
   "source": [
    "### Plot Variable Importance chart\n"
   ]
  },
  {
   "cell_type": "code",
   "execution_count": null,
   "metadata": {},
   "outputs": [],
   "source": [
    "def plot_feature_importances(model, X_train):\n",
    "    \"\"\"\n",
    "    Plot the feature importances for a given model based on the training partition.\n",
    "\n",
    "    Parameters:\n",
    "    model (object): Trained regression model with a `feature_importances_` attribute.\n",
    "    X_train (DataFrame):DataFrame containing the training features used to train the model.\n",
    "\n",
    "    \"\"\"\n",
    "    # Extract feature importances from the model\n",
    "    feature_importances = model.feature_importances_\n",
    "    column_names = X_train.columns.tolist()\n",
    "    matching_columns = set(column_names) & set(feature_importances['Variable'].tolist())\n",
    "    importance_df = feature_importances[feature_importances['Variable'].isin(matching_columns)]\n",
    "    importance_df.sort_values(by='Importance', ascending=False, inplace=True)\n",
    "\n",
    "    # Plot variable importances\n",
    "    plt.figure(figsize=(8, 6))\n",
    "    plt.bar(importance_df['Variable'], importance_df['Importance'])\n",
    "    plt.xlabel('Feature')\n",
    "    plt.ylabel('Importance')\n",
    "    plt.title(f'{model.__class__.__name__} Variable Importance')\n",
    "    plt.xticks(rotation=45)\n",
    "    plt.show()\n",
    "\n",
    "models = [sas_dtree, sas_forest_model, sas_gb_model]\n",
    "# Plot feature importances for each model based on the training partition\n",
    "for model in models:\n",
    "    plot_feature_importances(model, X_train)"
   ]
  },
  {
   "cell_type": "markdown",
   "metadata": {},
   "source": [
    "### Overall Model Comparsion\n",
    "&emsp; Compare Mean Squared Error (MSE) across the models"
   ]
  },
  {
   "cell_type": "code",
   "execution_count": null,
   "metadata": {},
   "outputs": [],
   "source": [
    "# Define partitions\n",
    "partitions = ['Training', 'Validation', 'Test']\n",
    "\n",
    "# Define model names\n",
    "model_names = ['Decision Tree', 'Random Forest', 'Gradient Boosting']\n",
    "\n",
    "# Define MSE values for each model and partition\n",
    "mse_values = {\n",
    "    'Decision Tree': [dt_train_mse, dt_val_mse, dt_test_mse],\n",
    "    'Random Forest': [rf_train_mse, rf_val_mse, rf_test_mse],\n",
    "    'Gradient Boosting': [gb_train_mse, gb_val_mse, gb_test_mse]\n",
    "}\n",
    "\n",
    "# Plotting the MSE values for each model by partition\n",
    "plt.figure(figsize=(10, 6))\n",
    "for model in model_names:\n",
    "    mse_vals = mse_values[model]\n",
    "    plt.plot(partitions, mse_vals, marker='o', label=model)\n",
    "\n",
    "plt.xlabel('Partition')\n",
    "plt.ylabel('Mean Squared Error')\n",
    "plt.title('Mean Squared Error for Different Models by Partition')\n",
    "plt.legend()\n",
    "plt.grid(True)\n",
    "plt.show()\n"
   ]
  }
 ],
 "metadata": {
  "kernelspec": {
   "display_name": "Python 3",
   "language": "python",
   "name": "python3"
  },
  "language_info": {
   "codemirror_mode": {
    "name": "ipython",
    "version": 3
   },
   "file_extension": ".py",
   "mimetype": "text/x-python",
   "name": "python",
   "nbconvert_exporter": "python",
   "pygments_lexer": "ipython3",
   "version": "3.11.5"
  }
 },
 "nbformat": 4,
 "nbformat_minor": 2
}
