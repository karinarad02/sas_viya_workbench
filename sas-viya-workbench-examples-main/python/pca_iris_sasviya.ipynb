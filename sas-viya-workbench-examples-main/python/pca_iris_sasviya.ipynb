{
 "cells": [
  {
   "cell_type": "markdown",
   "metadata": {},
   "source": [
    "## PCA from SAS® Viya® on Iris\n",
    "\n",
    "### Source\n",
    "This example is adapted from [Reduce Data Dimensionality using PCA – Python](https://www.geeksforgeeks.org/reduce-data-dimentionality-using-pca-python/) by user suvratarora06.\n",
    "\n",
    "### Data Preparation\n",
    "#### About the data set\n",
    "The Iris data set comes Ronald Fisher's 1936 paper \"The use of multiple measurements in taxonomic problems\". It contains 50 samples with five features: identification of one of three species of irises and the length and width of both sepals and petals.  This version of the iris data is available through scikit-learn."
   ]
  },
  {
   "cell_type": "code",
   "execution_count": null,
   "metadata": {},
   "outputs": [],
   "source": [
    "from sklearn import datasets\n",
    "import pandas as pd\n",
    "import seaborn as sn\n",
    "from sasviya.ml.decomposition import PCA"
   ]
  },
  {
   "cell_type": "markdown",
   "metadata": {},
   "source": [
    "#### Importing the data set\n",
    "To load the data, use `datasets.load_iris()` from sklearn.  In this case, we will also convert the data into a Pandas dataframe.\n"
   ]
  },
  {
   "cell_type": "code",
   "execution_count": null,
   "metadata": {},
   "outputs": [],
   "source": [
    "iris = datasets.load_iris()\n",
    "df = pd.DataFrame(iris['data'], columns = iris['feature_names'])\n",
    "df.head(5)"
   ]
  },
  {
   "cell_type": "markdown",
   "metadata": {},
   "source": [
    "#### Standardizing the data\n",
    "It is commonly recommended to standardize data when using machine learning techniques.  The PCA class automatically scales the input features by default, so there is no need for a separate scaling step. "
   ]
  },
  {
   "cell_type": "markdown",
   "metadata": {},
   "source": [
    "### Visualizing the data\n",
    "\n",
    "Heatmaps provide a convenient way to visualize the correlation between variables.  In a default seaborn heatmap, darker colors indicate stronger negative correlations and lighter colors show stronger positive correlations.  Since petal length has a high correlation other features, applying dimensionality reduction could be in order."
   ]
  },
  {
   "cell_type": "code",
   "execution_count": null,
   "metadata": {},
   "outputs": [],
   "source": [
    "sn.heatmap(df.corr(), annot=True)"
   ]
  },
  {
   "cell_type": "markdown",
   "metadata": {},
   "source": [
    "### Applying Principal Component Analysis\n",
    "To reduce dimensionality, we will use principal component analysis (PCA).  Since the original data has 4 columns, we will use `n_components` to reduce it 3. \n",
    "\n",
    "For details about using the `PCA` class of the `sasviya` package, see the [PCA documentation](https://documentation.sas.com/?cdcId=workbenchcdc&cdcVersion=default&docsetId=explore&docsetTarget=n1hbrdco0inum2n1ddq5wv4ghifq.htm)."
   ]
  },
  {
   "cell_type": "code",
   "execution_count": null,
   "metadata": {},
   "outputs": [],
   "source": [
    "pca = PCA(n_components = 3)\n",
    "pca.fit(df)\n",
    "data_pca = pca.transform(df).values\n",
    "data_pca = pd.DataFrame(data_pca,columns=['PC1','PC2','PC3'])\n",
    "data_pca.head()"
   ]
  },
  {
   "cell_type": "markdown",
   "metadata": {},
   "source": [
    "### Visualizing data after PCA\n",
    "As the brief output shows, PCA transforms the original data. Let's examine the correlation matrix for the transformed data with a heatmap.  We can see that the principal components have almost no correlation with each other."
   ]
  },
  {
   "cell_type": "code",
   "execution_count": null,
   "metadata": {},
   "outputs": [],
   "source": [
    "sn.heatmap(data_pca.corr(), annot=True)"
   ]
  }
 ],
 "metadata": {
  "kernelspec": {
   "display_name": "Python 3",
   "language": "python",
   "name": "python3"
  },
  "language_info": {
   "codemirror_mode": {
    "name": "ipython",
    "version": 3
   },
   "file_extension": ".py",
   "mimetype": "text/x-python",
   "name": "python",
   "nbconvert_exporter": "python",
   "pygments_lexer": "ipython3",
   "version": "3.11.8"
  }
 },
 "nbformat": 4,
 "nbformat_minor": 4
}
