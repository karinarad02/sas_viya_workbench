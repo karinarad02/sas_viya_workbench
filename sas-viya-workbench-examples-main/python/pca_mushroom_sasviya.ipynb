{
 "cells": [
  {
   "cell_type": "markdown",
   "id": "d2db52c4",
   "metadata": {},
   "source": [
    "## PCA and DecisionTreeClassifier from SAS® Viya® on Mushroom and using GridSearchCV\n",
    "### Source\n",
    "This example is adapted from [ML_-Decision-Trees-GridSearchCV-PCA-](https://github.com/GalaRusina/ML_-Decision-Trees-GridSearchCV-PCA-/tree/main) by Galyna Rusina.\n",
    "\n",
    "### Data Preparation\n",
    "#### About the data set\n",
    "This data set contains 8124 hypothetical samples from 23 species of gilled mushrooms in the Agaricus and Lepiota Family. Although each species was originally identified as \"edible\", \"poisonous\", or \"unknown\", the last two are combined into one classification of \"poisonous\".  The goal is identify whether a sample is poisonous based on its 22 attributes."
   ]
  },
  {
   "cell_type": "code",
   "execution_count": null,
   "id": "98f06a84-8498-4b47-95d4-c9ec5df250ca",
   "metadata": {},
   "outputs": [],
   "source": [
    "# import packages\n",
    "import numpy as np\n",
    "import pandas as pd\n",
    "import matplotlib.pyplot as plt\n",
    "import os\n",
    "from sklearn.model_selection import train_test_split, GridSearchCV\n",
    "from sklearn.metrics import classification_report, confusion_matrix\n",
    "from sklearn.metrics import accuracy_score, roc_auc_score, f1_score\n",
    "from sklearn.metrics import ConfusionMatrixDisplay\n",
    "from sklearn.preprocessing import StandardScaler\n",
    "\n",
    "from sasviya.ml.decomposition import PCA\n",
    "from sasviya.ml.tree import DecisionTreeClassifier\n",
    "\n",
    "import warnings\n",
    "from sklearn.exceptions import FitFailedWarning\n",
    "warnings.filterwarnings(\"ignore\", category=UserWarning)\n",
    "warnings.filterwarnings(\"ignore\", category=FitFailedWarning)"
   ]
  },
  {
   "cell_type": "markdown",
   "id": "d782d084",
   "metadata": {},
   "source": [
    "#### Importing the data"
   ]
  },
  {
   "cell_type": "code",
   "execution_count": null,
   "id": "8520f0c7-4a3a-4033-a9bc-b88513ffb215",
   "metadata": {},
   "outputs": [],
   "source": [
    "workspace=f'{os.path.abspath(\"\")}/../data/'\n",
    "df=pd.read_csv(workspace+'mushroom.csv')\n",
    "df.head()"
   ]
  },
  {
   "cell_type": "markdown",
   "id": "c5acaa53",
   "metadata": {},
   "source": [
    "### Examining data characteristics\n",
    "#### Basic information\n",
    "Let's examine various characteristics of the data:\n",
    "* Shape\n",
    "* Names of variables\n",
    "* Information about variables\n",
    "* Basic statistics about the variable values"
   ]
  },
  {
   "cell_type": "code",
   "execution_count": null,
   "id": "dda96e87-43c6-4a1d-aec5-7ed348e348dc",
   "metadata": {},
   "outputs": [],
   "source": [
    "df.shape"
   ]
  },
  {
   "cell_type": "code",
   "execution_count": null,
   "id": "ef85a22d-a4d4-45a5-b880-b20728b582c8",
   "metadata": {},
   "outputs": [],
   "source": [
    "df.columns"
   ]
  },
  {
   "cell_type": "code",
   "execution_count": null,
   "id": "9c21df80-271d-4d92-a92f-95041ba4ceb1",
   "metadata": {},
   "outputs": [],
   "source": [
    "df.info()"
   ]
  },
  {
   "cell_type": "code",
   "execution_count": null,
   "id": "7e3e1788-9d83-4f08-b445-e0c3dbb6bc9b",
   "metadata": {},
   "outputs": [],
   "source": [
    "df.describe().T"
   ]
  },
  {
   "cell_type": "code",
   "execution_count": null,
   "id": "2587a724-d55f-4eae-acb4-5bae263b1fbd",
   "metadata": {},
   "outputs": [],
   "source": [
    "df['target'].value_counts(normalize=True)"
   ]
  },
  {
   "cell_type": "markdown",
   "id": "bf882018",
   "metadata": {},
   "source": [
    "It appears that all variables are categorical and none have missing values.  In addition, \"veil-type\" has a constant value for all observations.  As a result, it can be dropped from the analysis."
   ]
  },
  {
   "cell_type": "code",
   "execution_count": null,
   "id": "63760201-c1d0-4e1b-9c34-a3e70db33081",
   "metadata": {},
   "outputs": [],
   "source": [
    "df=df.drop('veil-type',axis=1)"
   ]
  },
  {
   "cell_type": "markdown",
   "id": "8f902365",
   "metadata": {},
   "source": [
    "#### Examining correlations\n",
    "Rather than a pure numeric view of the correlation matrix, we will apply a heatmap-like gradient to the matrix for better visibility."
   ]
  },
  {
   "cell_type": "code",
   "execution_count": null,
   "id": "9a4348a9-dddf-4b0b-9062-58cd872aa1e1",
   "metadata": {},
   "outputs": [],
   "source": [
    "corr_matrix = df.corr()\n",
    "corr_matrix_styled = corr_matrix.style.background_gradient(cmap=\"coolwarm\").format(\"{:.2f}\")\n",
    "corr_matrix_styled"
   ]
  },
  {
   "cell_type": "markdown",
   "id": "30398e5d",
   "metadata": {},
   "source": [
    "\"cap-shape\" appears to be the least correlated with the other variables. That often means it will be important for classifying the observations.  We will take a look at the relationship between \"target\" and the values of \"cap-shape\"."
   ]
  },
  {
   "cell_type": "code",
   "execution_count": null,
   "id": "5564e7d1-4344-4f7c-8513-429bd758940a",
   "metadata": {},
   "outputs": [],
   "source": [
    "df_corr = df[['target','cap-shape']]\n",
    "df_corr.head()"
   ]
  },
  {
   "cell_type": "code",
   "execution_count": null,
   "id": "9bc4cbb5-b3c9-4d75-ac14-881d6480be44",
   "metadata": {},
   "outputs": [],
   "source": [
    "df_last_corr = df_corr.groupby('cap-shape').mean().sort_values(by='target', ascending = False)\n",
    "df_last_corr"
   ]
  },
  {
   "cell_type": "markdown",
   "id": "e1f2a274",
   "metadata": {},
   "source": [
    "#### Standardizing the data\n",
    "It is commonly recommended to standardize data when using machine learning techniques. scikit-learn provides the `StandardScaler` class to help easily accomplish this.  "
   ]
  },
  {
   "cell_type": "code",
   "execution_count": null,
   "id": "bbb0cf1a-a674-47f9-ac8d-79c12d20fa74",
   "metadata": {},
   "outputs": [],
   "source": [
    "scaler=StandardScaler()\n",
    "df_X = df.drop(['target'], axis=1) # remove the dependent variable\n",
    "scaler.fit(df_X) # calculate the mean to perform the transformation\n",
    "X_scaled=scaler.transform(df_X) # scale the data, and normalize it"
   ]
  },
  {
   "cell_type": "code",
   "execution_count": null,
   "id": "09326c28-4a23-4d72-b48c-d38bcea45dd5",
   "metadata": {},
   "outputs": [],
   "source": [
    "df_X_scaled = pd.DataFrame(X_scaled)\n",
    "y = df[['target']]\n",
    "df_scaled = pd.concat([df_X_scaled, y], axis=1)\n",
    "df_scaled.head()"
   ]
  },
  {
   "cell_type": "markdown",
   "id": "7c4e8321-4b7e-4dc7-813d-c55538bba552",
   "metadata": {},
   "source": [
    "#### Creating training and test data\n",
    "We split the scaled data by putting 80% into the training set and 20% into the test set. "
   ]
  },
  {
   "cell_type": "code",
   "execution_count": null,
   "id": "7252a849-2ef1-4149-a105-7b8c1186a3cb",
   "metadata": {},
   "outputs": [],
   "source": [
    "X_train_scaled, X_test_scaled, y_train, y_test = train_test_split(df_X_scaled, y, random_state=42, stratify=df_scaled['target'], test_size=0.2)"
   ]
  },
  {
   "cell_type": "markdown",
   "id": "4603d1dc-e4fc-4027-86fc-a69ce3855a6f",
   "metadata": {},
   "source": [
    "### Classifying the scaled data using DecisionTreeClassifier\n",
    "Let's run `DecisionTreeClassifier` against the scaled training data.  After fitting the model, we will display scores for accuracy, ROC, and F1. "
   ]
  },
  {
   "cell_type": "code",
   "execution_count": null,
   "id": "074973ba-a6af-4f17-ba2b-2372bc70a2e6",
   "metadata": {},
   "outputs": [],
   "source": [
    "dec_tree = DecisionTreeClassifier(\n",
    "                     criterion='gini',\n",
    "                     max_depth=7)"
   ]
  },
  {
   "cell_type": "code",
   "execution_count": null,
   "id": "ee0d82cb-d52c-49ca-a342-88f183097905",
   "metadata": {},
   "outputs": [],
   "source": [
    "dec_tree.fit(X_train_scaled,y_train)\n",
    "y_predict = dec_tree.predict(X_test_scaled)"
   ]
  },
  {
   "cell_type": "code",
   "execution_count": null,
   "id": "3f7010cc-8019-4e74-a703-edb54117d6f3",
   "metadata": {},
   "outputs": [],
   "source": [
    "print('Accuracy: ', accuracy_score(y_test, y_predict)) # get the metric from the model with all features\n",
    "print('ROC: ',roc_auc_score(y_test,y_predict))\n",
    "print('F1: ', f1_score(y_test,y_predict))"
   ]
  },
  {
   "cell_type": "markdown",
   "id": "d19897eb-e103-44d3-8d3d-70426f62fd1a",
   "metadata": {},
   "source": [
    "### Applying Principal Component Analysis\n",
    "\n",
    "Often applied to data sets with large numbers of variables, Principal Component Analysis (PCA) combines variables such that the number of variables is reduced but the information from them is retained in the output data set.  A key feature is that the new variables created through PCA are independent of each other. In this case, we decide to transform our original 22 characteristics down to 15, using the scaled data generated earlier.\n",
    "\n",
    "For details about using the `PCA` class of the `sasviya` package, see the [PCA documentation](https://documentation.sas.com/?cdcId=workbenchcdc&cdcVersion=default&docsetId=explore&docsetTarget=n1hbrdco0inum2n1ddq5wv4ghifq.htm)."
   ]
  },
  {
   "cell_type": "code",
   "execution_count": null,
   "id": "af217875-527a-4709-a9d6-2927ce77a517",
   "metadata": {},
   "outputs": [],
   "source": [
    "pca=PCA(n_components=15)\n",
    "pca.fit(X_scaled)\n",
    "X_pca=pca.transform(X_scaled)"
   ]
  },
  {
   "cell_type": "code",
   "execution_count": null,
   "id": "cd174765-b8c4-4dd6-930c-8b0ed3d4a6a9",
   "metadata": {},
   "outputs": [],
   "source": [
    "print(\"Shape of X_pca\", X_pca.shape)\n",
    "expl = pca.explained_variance_ratio_\n",
    "print('Explained variance by component\\n', [round(x, 3) for x in expl])\n",
    "print(f'Sum of explained variance: {sum(expl[0:15]):.2f}')"
   ]
  },
  {
   "cell_type": "code",
   "execution_count": null,
   "id": "f01352a2-a643-4c66-88c1-56b4be89a8a4",
   "metadata": {},
   "outputs": [],
   "source": [
    "# plot the cumulative explained variance in the new dimensions\n",
    "plt.plot(np.cumsum(pca.explained_variance_ratio_))\n",
    "plt.xlabel('Number of components')\n",
    "plt.ylabel('Cumulative explained variance')\n",
    "plt.grid()\n",
    "plt.show()"
   ]
  },
  {
   "cell_type": "code",
   "execution_count": null,
   "id": "360761ef-a4ee-4d6e-bf07-9985488ad9d4",
   "metadata": {},
   "outputs": [],
   "source": [
    "df_pca = pd.DataFrame(X_pca)\n",
    "y_pca = df[['target']]\n",
    "df_pca = pd.concat([df_pca, y_pca], axis=1)\n",
    "df_pca.head()"
   ]
  },
  {
   "cell_type": "markdown",
   "id": "69f7a120",
   "metadata": {},
   "source": [
    "#### Creating training and test data based on PCA data"
   ]
  },
  {
   "cell_type": "code",
   "execution_count": null,
   "id": "167b3739-3f47-41fa-9d1d-9b61db5d3e25",
   "metadata": {},
   "outputs": [],
   "source": [
    "X_pca = df_pca.drop('target',axis=1)\n",
    "y_pca = df_pca['target']\n",
    "\n",
    "X_train_pca, X_test_pca, y_train_pca, y_test_pca = train_test_split(X_pca, y_pca, random_state=42, stratify=df['target'], test_size=0.2)"
   ]
  },
  {
   "cell_type": "markdown",
   "id": "63e62064",
   "metadata": {},
   "source": [
    "### Creating a DecisionTreeClassifier Model From PCA Data\n",
    "After fitting the model, we will display the scores for accuracy, ROC, and F1."
   ]
  },
  {
   "cell_type": "code",
   "execution_count": null,
   "id": "339af0a1-ef3f-42ac-a47f-0648bc36d618",
   "metadata": {},
   "outputs": [],
   "source": [
    "dec_tree_pca = DecisionTreeClassifier(\n",
    "                     criterion='gini',\n",
    "                     max_depth=7)"
   ]
  },
  {
   "cell_type": "code",
   "execution_count": null,
   "id": "730db15e-f72f-4a7b-8cd5-2a3a4ae0f81e",
   "metadata": {},
   "outputs": [],
   "source": [
    "dec_tree_pca.fit(X_train_pca,y_train_pca)"
   ]
  },
  {
   "cell_type": "code",
   "execution_count": null,
   "id": "e4bdb6a2-d439-4df2-9020-ce339aa3db82",
   "metadata": {},
   "outputs": [],
   "source": [
    "y_predict_pca = dec_tree_pca.predict(X_test_pca)"
   ]
  },
  {
   "cell_type": "markdown",
   "id": "607a5087",
   "metadata": {},
   "source": [
    "### Examining the Results\n"
   ]
  },
  {
   "cell_type": "code",
   "execution_count": null,
   "id": "ef3ee296-f385-4a20-b701-8255dbb19194",
   "metadata": {},
   "outputs": [],
   "source": [
    "print(f'Accuracy: {accuracy_score(y_test_pca, y_predict_pca):.2f}') # get the metrics from the optimized model\n",
    "print(f'ROC: {roc_auc_score(y_test_pca,y_predict_pca):.2f}')\n",
    "print(f'F1: {f1_score(y_test_pca,y_predict_pca):.2f}')"
   ]
  },
  {
   "cell_type": "code",
   "execution_count": null,
   "id": "af5a08f2-36df-4d8a-b20b-e66b4d990c6c",
   "metadata": {},
   "outputs": [],
   "source": [
    "print(\"Classification Report\\n\",classification_report(y_test_pca, y_predict_pca, target_names=['0','1']))\n",
    "\n",
    "print(\"Classification Report\\n\",confusion_matrix(y_test_pca, y_predict_pca))"
   ]
  },
  {
   "cell_type": "code",
   "execution_count": null,
   "id": "01d72a7b-7f7a-4f1e-a858-6eed110075a9",
   "metadata": {},
   "outputs": [],
   "source": [
    "disp = ConfusionMatrixDisplay.from_estimator(\n",
    "        dec_tree_pca,\n",
    "        X_test_pca,\n",
    "        y_test_pca,\n",
    "        display_labels=y_pca.unique(),\n",
    "        cmap=plt.cm.Blues,\n",
    "    )\n",
    "disp.ax_.set_title('Confusion matrix')\n",
    "plt.show()"
   ]
  },
  {
   "cell_type": "markdown",
   "id": "4745f88e",
   "metadata": {},
   "source": [
    "### Optimizing the model via GridSearchCV\n"
   ]
  },
  {
   "cell_type": "code",
   "execution_count": null,
   "id": "9d8952d2-1336-44fc-8609-469216581063",
   "metadata": {},
   "outputs": [],
   "source": [
    "params = {'criterion' : ['gini', 'entropy'],\n",
    "          'max_depth' : range(10, 15),\n",
    "          'min_samples_leaf' : range(1,5)\n",
    "          }\n",
    "cv = 3\n",
    "verbose = 1\n",
    "\n",
    "grid = GridSearchCV(\n",
    "        estimator  = DecisionTreeClassifier(),\n",
    "        param_grid = params,\n",
    "        scoring    = 'accuracy',\n",
    "        n_jobs     = - 1,\n",
    "        cv         = 3,\n",
    "        verbose    = 1,\n",
    "        return_train_score = True,\n",
    "\n",
    "       )\n",
    "\n",
    "grid.fit(X = X_train_pca, y = y_train_pca)\n",
    "\n",
    "# obtain the best parameters"
   ]
  },
  {
   "cell_type": "code",
   "execution_count": null,
   "id": "d92198cb-163b-4bb2-a9e3-eb363e6073e0",
   "metadata": {},
   "outputs": [],
   "source": [
    "print('Best parameters:', grid.best_params_)\n",
    "\n",
    "print(f'Best accuracy score:{grid.best_score_:.2f}')"
   ]
  },
  {
   "cell_type": "code",
   "execution_count": null,
   "id": "1f967d17-2b09-4526-b366-672698447d03",
   "metadata": {},
   "outputs": [],
   "source": [
    "dec_tree_pca = DecisionTreeClassifier(\n",
    "                 criterion='gini',\n",
    "                 max_depth=14,\n",
    "                 min_samples_leaf=1\n",
    ")"
   ]
  },
  {
   "cell_type": "code",
   "execution_count": null,
   "id": "d84b5d6f-5df3-48a7-971b-6a531bafcdbc",
   "metadata": {},
   "outputs": [],
   "source": [
    "dec_tree_pca.fit(X_train_pca, y_train_pca)"
   ]
  },
  {
   "cell_type": "code",
   "execution_count": null,
   "id": "d0d6baf2-136d-4f03-9803-d1b1957c8d1b",
   "metadata": {},
   "outputs": [],
   "source": [
    "y_predict_pca = dec_tree_pca.predict(X_test_pca)"
   ]
  },
  {
   "cell_type": "code",
   "execution_count": null,
   "id": "312af6d3-696f-4629-ac23-10651803e8dc",
   "metadata": {},
   "outputs": [],
   "source": [
    "print(f'Accuracy: {accuracy_score(y_test_pca, y_predict_pca):.2f}')\n",
    "print(f'ROC: {roc_auc_score(y_test_pca,y_predict_pca):.2f}')\n",
    "print(f'F1: {f1_score(y_test_pca,y_predict_pca):.2f}')"
   ]
  },
  {
   "cell_type": "code",
   "execution_count": null,
   "id": "35ede3b3-acfe-4748-8857-c7e7478bce3d",
   "metadata": {},
   "outputs": [],
   "source": [
    "# classification report of X_test\n",
    "print('Classification Report\\n', classification_report(y_test_pca, y_predict_pca, target_names=['0','1']))\n",
    "\n",
    "print('Confusion Matrix\\n', confusion_matrix(y_test_pca, y_predict_pca))"
   ]
  },
  {
   "cell_type": "code",
   "execution_count": null,
   "id": "2ae37822-53e3-4491-a8b2-5a645d4f651a",
   "metadata": {},
   "outputs": [],
   "source": [
    "disp = ConfusionMatrixDisplay.from_estimator(\n",
    "        dec_tree_pca,\n",
    "        X_test_pca,\n",
    "        y_test_pca,\n",
    "        display_labels=y_pca.unique(),\n",
    "        cmap=plt.cm.Blues,\n",
    "    )\n",
    "disp.ax_.set_title('Confusion matrix')\n",
    "\n",
    "plt.show()"
   ]
  },
  {
   "cell_type": "markdown",
   "id": "a05d4f7f",
   "metadata": {},
   "source": [
    "We managed to reduce the variables from 22 to 15 using PCA without losing the model performance."
   ]
  }
 ],
 "metadata": {
  "kernelspec": {
   "display_name": "Python 3",
   "language": "python",
   "name": "python3"
  },
  "language_info": {
   "codemirror_mode": {
    "name": "ipython",
    "version": 3
   },
   "file_extension": ".py",
   "mimetype": "text/x-python",
   "name": "python",
   "nbconvert_exporter": "python",
   "pygments_lexer": "ipython3",
   "version": "3.11.8"
  }
 },
 "nbformat": 4,
 "nbformat_minor": 5
}
