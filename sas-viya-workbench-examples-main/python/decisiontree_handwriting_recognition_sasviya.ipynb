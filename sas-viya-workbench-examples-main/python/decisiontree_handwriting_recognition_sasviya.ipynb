{
 "cells": [
  {
   "cell_type": "markdown",
   "metadata": {},
   "source": [
    "## DecisionTreeClassifier from SAS® Viya® on Handwriting Recognition\n",
    "\n",
    "### About the data set\n",
    "The data is a copy of the test set of the [UCI ML hand-written digits datasets]( https://archive.ics.uci.edu/ml/datasets/Optical+Recognition+of+Handwritten+Digits).\n",
    "\n",
    "This example focuses on image recognition, specifically the recognition of handwritten digits. The dataset comprises 1797 observations, each consisting of an image depicting a single handwritten digit. Each image is 64 pixels in size, with dimensions of 8 pixels in width and 8 pixels in height.\n",
    "\n",
    "The **inputs(𝐱)** are vectors with 64 dimensions or values, where each input vector represents one image. The 64 values within the input vector correspond to the pixels of the image. These input values range from 0 to 16, indicating the grayscale shade of the respective pixel. The **output(𝑦)** for each observation is an integer between 0 and 9, corresponding to the digit depicted in the image. In total, there are ten classes, each representing a different digit."
   ]
  },
  {
   "cell_type": "markdown",
   "metadata": {},
   "source": [
    "### Step 1: Import Packages\n",
    "\n",
    "You will need to import Matplotlib, various functions and classes from scikit-learn."
   ]
  },
  {
   "cell_type": "code",
   "execution_count": null,
   "metadata": {},
   "outputs": [],
   "source": [
    "import matplotlib.pyplot as plt\n",
    "from sklearn.datasets import load_digits\n",
    "from sasviya.ml.tree import DecisionTreeClassifier\n",
    "\n",
    "from sklearn.metrics import classification_report, confusion_matrix\n",
    "from sklearn.model_selection import train_test_split"
   ]
  },
  {
   "cell_type": "markdown",
   "metadata": {},
   "source": [
    "### Step 2a: Get Data\n",
    "\n",
    "You can retrieve the dataset directly from scikit-learn using load_digits(). This function returns a tuple containing the inputs and outputs."
   ]
  },
  {
   "cell_type": "code",
   "execution_count": null,
   "metadata": {},
   "outputs": [],
   "source": [
    "from sklearn.datasets import load_digits\n",
    "digits = load_digits()\n",
    "digits.keys()"
   ]
  },
  {
   "cell_type": "markdown",
   "metadata": {},
   "source": [
    "We have loaded the digits data. Let's plot the digits. \n",
    "\n",
    "The code below sets up a figure with a 6x6 inch size and adjusts the spacing between the subplots. It then creates an 8x8 grid of subplots, each displaying an 8x8 pixel image from the digits dataset. The code adds a text label to each subplot, showing the target value associated with the corresponding image."
   ]
  },
  {
   "cell_type": "code",
   "execution_count": null,
   "metadata": {},
   "outputs": [],
   "source": [
    "# set up the figure\n",
    "fig = plt.figure(figsize=(6, 6))  # figure size in inches\n",
    "fig.subplots_adjust(left=0, right=1, bottom=0, top=1, hspace=0.05, wspace=0.05)\n",
    "\n",
    "# plot the digits: each image is 8x8 pixels\n",
    "for i in range(64):\n",
    "    ax = fig.add_subplot(8, 8, i + 1, xticks=[], yticks=[])\n",
    "    ax.imshow(digits.images[i], cmap=plt.cm.binary, interpolation='nearest')\n",
    "    \n",
    "    # label the image with the target value\n",
    "    ax.text(0, 7, str(digits.target[i]))"
   ]
  },
  {
   "cell_type": "markdown",
   "metadata": {},
   "source": [
    "The code x, y = load_digits(return_X_y=True) is a concise way to load the Digits dataset from the scikit-learn library and unpack the feature data (images) and target data (digit labels) into separate array variables, making it ready for further processing and model training."
   ]
  },
  {
   "cell_type": "code",
   "execution_count": null,
   "metadata": {},
   "outputs": [],
   "source": [
    "x, y = load_digits(return_X_y=True)"
   ]
  },
  {
   "cell_type": "code",
   "execution_count": null,
   "metadata": {},
   "outputs": [],
   "source": [
    "x"
   ]
  },
  {
   "cell_type": "code",
   "execution_count": null,
   "metadata": {},
   "outputs": [],
   "source": [
    "y"
   ]
  },
  {
   "cell_type": "markdown",
   "metadata": {},
   "source": [
    "That is the data you will be working with. x is a multi-dimensional array with 1797 rows and 64 columns, containing integers from 0 to 16. y is a one-dimensional array with 1797 integers ranging from 0 to 9."
   ]
  },
  {
   "cell_type": "markdown",
   "metadata": {},
   "source": [
    "### Step 2b: Split Data\n",
    "\n",
    "It is a common and widely adopted practice to divide the dataset you are working with into two subsets: the **training set** and the **test set**. This division is typically done randomly. The training set is used to train your model, while the test set is used to evaluate its performance. It is crucial not to use the test set during the model fitting process. This methodology allows for an unbiased assessment of the model.\n",
    "\r\n",
    "One method to split your dataset into training and test sets is by using train_test_split(). is to apply train_test_split()."
   ]
  },
  {
   "cell_type": "code",
   "execution_count": null,
   "metadata": {},
   "outputs": [],
   "source": [
    "X_train, X_test, y_train, y_test = train_test_split(x, y, test_size=0.2, random_state=0)"
   ]
  },
  {
   "cell_type": "markdown",
   "metadata": {},
   "source": [
    "[train_test_split()](https://scikit-learn.org/stable/modules/generated/sklearn.model_selection.train_test_split.html) accepts x and y, along with test_size to determine the test set's size and random_state to set the pseudo-random number generator state, among other optional arguments. This function returns a list containing four arrays:\n",
    "\n",
    "1. X_train: the portion of x used for model fitting\n",
    "2. X_test: the portion of x used for model evaluation\n",
    "3. y_train: the corresponding part of y for X_train\n",
    "4. y_test: the corresponding part of y for X_test\n",
    "\n",
    "Once your data is split, you should set aside X_test and y_test until you define your model."
   ]
  },
  {
   "cell_type": "markdown",
   "metadata": {},
   "source": [
    "###  Step 3: Create a Model and Train it with sasviya.ml.tree DecisionTreeClassifier\n",
    "Utilize the x_train and y_train subsets to train the model. Create an instance of DecisionTreeClassifier and invoke .fit() on it.\n",
    "\n",
    "For details about using the `DecisionTreeClassifier` class, see the [DecisionTreeClassifier documentation](https://documentation.sas.com/?cdcId=workbenchcdc&cdcVersion=default&docsetId=explore&docsetTarget=p14rqs4yfhf5bcn1js9nlfgzx795.htm)"
   ]
  },
  {
   "cell_type": "code",
   "execution_count": null,
   "metadata": {},
   "outputs": [],
   "source": [
    "dt = DecisionTreeClassifier(max_depth=5,\n",
    "                            min_samples_leaf=1,                           \n",
    "                            criterion='gini')\n",
    "\n",
    "dt.fit(X_train, y_train)"
   ]
  },
  {
   "cell_type": "markdown",
   "metadata": {},
   "source": [
    "Use the get_params() to retrieve the parameters used by the DecisionTreeClassifier object dt.   "
   ]
  },
  {
   "cell_type": "code",
   "execution_count": null,
   "metadata": {},
   "outputs": [],
   "source": [
    "dt.get_params()"
   ]
  },
  {
   "cell_type": "markdown",
   "metadata": {},
   "source": [
    "Obtain the predicted outputs using .predict()."
   ]
  },
  {
   "cell_type": "code",
   "execution_count": null,
   "metadata": {},
   "outputs": [],
   "source": [
    "y_pred = dt.predict(X_test)"
   ]
  },
  {
   "cell_type": "code",
   "execution_count": null,
   "metadata": {},
   "outputs": [],
   "source": [
    "y_pred"
   ]
  },
  {
   "cell_type": "markdown",
   "metadata": {},
   "source": [
    "The variable y_pred is now associated with an array of the predicted outputs."
   ]
  },
  {
   "cell_type": "markdown",
   "metadata": {},
   "source": [
    "You can calculate the accuracy using .score()."
   ]
  },
  {
   "cell_type": "code",
   "execution_count": null,
   "metadata": {},
   "outputs": [],
   "source": [
    "print('{:.4f}'.format(dt.score(X_train, y_train)))"
   ]
  },
  {
   "cell_type": "code",
   "execution_count": null,
   "metadata": {},
   "outputs": [],
   "source": [
    "print('{:.4f}'.format(dt.score(X_test, y_test)))"
   ]
  },
  {
   "cell_type": "markdown",
   "metadata": {},
   "source": [
    "You can obtain two accuracy values, one from the training set and the other from the test set. Comparing these two values is advisable; a significant difference where the training set accuracy is much higher might indicate overfitting. The test set accuracy is more relevant for evaluating performance on unseen data since it is unbiased."
   ]
  },
  {
   "cell_type": "markdown",
   "metadata": {},
   "source": [
    "You can get the confusion matrix using confusion_matrix()."
   ]
  },
  {
   "cell_type": "markdown",
   "metadata": {},
   "source": [
    "The resulting confusion matrix is extensive, containing 100 numbers in this instance. This is a scenario where visualizing it could be highly beneficial."
   ]
  },
  {
   "cell_type": "code",
   "execution_count": null,
   "metadata": {},
   "outputs": [],
   "source": [
    "cm = confusion_matrix(y_test, y_pred)\n",
    "\n",
    "fig, ax = plt.subplots(figsize=(8, 8))\n",
    "ax.imshow(cm)\n",
    "ax.grid(False)\n",
    "ax.set_xlabel('Predicted outputs', fontsize=12, color='black')\n",
    "ax.set_ylabel('Actual outputs', fontsize=12, color='black')\n",
    "ax.xaxis.set(ticks=range(10))\n",
    "ax.yaxis.set(ticks=range(10))\n",
    "ax.set_ylim(9.5, -0.5)\n",
    "for i in range(10):\n",
    "    for j in range(10):\n",
    "        ax.text(j, i, cm[i, j], ha='center', va='center', color='white')\n",
    "plt.show()"
   ]
  },
  {
   "cell_type": "markdown",
   "metadata": {},
   "source": [
    "This heatmap visually represents the confusion matrix using numbers and colors. The shades of purple indicate smaller numbers (such as 0, 1, or 2), while green and yellow represent larger numbers (21 and above).\n",
    "\r\n",
    "The values on the diagonal (24, 21, ..., 37) indicate the number of accurate predictions from the test set. For instance, there are 24 correctly classified images of zero, 21 of one, and 37 of two, and so forth. Other values correspond to incorrect predictions. For example, the value 1 in the third row and first column indicates one image of the number 2 incorrectly classified as 0."
   ]
  },
  {
   "cell_type": "markdown",
   "metadata": {},
   "source": [
    "Finally, you can obtain the classification report as a string or dictionary using classification_report()."
   ]
  },
  {
   "cell_type": "code",
   "execution_count": null,
   "metadata": {},
   "outputs": [],
   "source": [
    "print(classification_report(y_test, y_pred))"
   ]
  },
  {
   "cell_type": "markdown",
   "metadata": {},
   "source": [
    "This report provides additional information such as the support and precision for classifying each digit."
   ]
  }
 ],
 "metadata": {
  "kernelspec": {
   "display_name": "Python 3",
   "language": "python",
   "name": "python3"
  },
  "language_info": {
   "codemirror_mode": {
    "name": "ipython",
    "version": 3
   },
   "file_extension": ".py",
   "mimetype": "text/x-python",
   "name": "python",
   "nbconvert_exporter": "python",
   "pygments_lexer": "ipython3",
   "version": "3.11.5"
  }
 },
 "nbformat": 4,
 "nbformat_minor": 4
}
