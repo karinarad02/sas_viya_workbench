{
 "cells": [
  {
   "cell_type": "markdown",
   "metadata": {},
   "source": [
    "## svm.SVC from SAS® Viya® on Breast Cancer with Grid Search\n",
    "\n",
    "### Source\n",
    "This example is adapted from [SVM Hyperparameter Tuning using GridSearchCV](https://www.geeksforgeeks.org/svm-hyperparameter-tuning-using-gridsearchcv-ml/) by user tyagikartik4282.\n",
    "\n",
    "### Data Preparation\n",
    "#### About the data set\n",
    "30 features describing cell nuclei were calculated from 569 digitized images of fine needle aspirations of a breast mass. Along with an identifier, each image is classified as malignant (M) or benign (B)."
   ]
  },
  {
   "cell_type": "markdown",
   "metadata": {},
   "source": [
    "In addition to the parameters discovered by training a model, algorithms rely on hyperparameters to control the training process and the resulting parameters. The reasons for choosing particular values may involve a priori knowledge, intuition, or guessing, but can have a significant impact on the quality of the generated model for whatever reason they were selected.  A more methodical approach is to use a grid search algorithm that examines the space of parameter combinations to help identify the best performing hyperparameters.  This example uses `GridSearchCV` from scikit-learn to show one mechanism for doing this where the grid search is supplemented by cross-validation for model evaluation."
   ]
  },
  {
   "cell_type": "code",
   "execution_count": null,
   "metadata": {},
   "outputs": [],
   "source": [
    "import pandas as pd\n",
    "import numpy as np\n",
    "from sklearn.metrics import classification_report, confusion_matrix\n",
    "from sasviya.ml.svm import SVC"
   ]
  },
  {
   "cell_type": "markdown",
   "metadata": {},
   "source": [
    "#### Importing the data"
   ]
  },
  {
   "cell_type": "code",
   "execution_count": null,
   "metadata": {},
   "outputs": [],
   "source": [
    "from sklearn.datasets import load_breast_cancer\n",
    "dataset = load_breast_cancer()\n",
    "dataset.keys()"
   ]
  },
  {
   "cell_type": "markdown",
   "metadata": {},
   "source": [
    "To analyze the data, we need to extract the features and target into dataframes.  We will also examine the information about the features and show the general format of the observations.  One important thing to note is that there are no missing values for any variables."
   ]
  },
  {
   "cell_type": "code",
   "execution_count": null,
   "metadata": {},
   "outputs": [],
   "source": [
    "df_feat = pd.DataFrame(dataset['data'], columns = dataset['feature_names'])\n",
    "df_target = pd.DataFrame(dataset['target'], columns =['Cancer'])\n",
    "df_feat.info()\n",
    "df_feat.head()"
   ]
  },
  {
   "cell_type": "markdown",
   "metadata": {},
   "source": [
    "#### Creating training and test data\n",
    "We split the original data by putting 70% into the training set and 30% into the test set. This split could be considered a hyperparameter, since it impacts the data being used for training and testing, but we will not be including it our examination."
   ]
  },
  {
   "cell_type": "code",
   "execution_count": null,
   "metadata": {},
   "outputs": [],
   "source": [
    "from sklearn.model_selection import train_test_split\n",
    "X_train, X_test, y_train, y_test = train_test_split(df_feat, np.ravel(df_target),\n",
    "                                                    test_size = 0.30, random_state = 101)"
   ]
  },
  {
   "cell_type": "markdown",
   "metadata": {},
   "source": [
    "### Training a Support Vector Classifier Model Without Tuning\n",
    "Before trying hypertuning, we shall see what happens with all the defaults for a Support Vector Classifier (SVC) model.\n",
    "\n",
    "For details about using the `SVC` class of the `sasviya` package, see the [SVC documentation](https://documentation.sas.com/?cdcId=workbenchcdc&cdcVersion=default&docsetId=explore&docsetTarget=p1udx0532v47xfn1l3ix3scjh8uj.htm)."
   ]
  },
  {
   "cell_type": "code",
   "execution_count": null,
   "metadata": {},
   "outputs": [],
   "source": [
    "model = SVC()\n",
    "model.fit(X_train, y_train)\n",
    "\n",
    "# results analysis\n",
    "y_pred = model.predict(X_test)\n",
    "print(\"Classification report:\\n\", classification_report(y_test, y_pred))\n",
    "print(\"Confusion matrix:\\n\", confusion_matrix(y_test, y_pred))"
   ]
  },
  {
   "cell_type": "markdown",
   "metadata": {},
   "source": [
    "### Training a Support Vector Classifier Model With Hyperparameter Tuning\n",
    "Although there are multiple parameters that could be tuned for `SVC()`, we will only examine two of them: `C` and `coef0` due to the amount of time a full search would take.  Since the search space of both is continuous, we will discretize it into a handful of values of interest.  `.fit()` for a model defined with `GridSearchCV` runs the grid search first, using cross-validation to select the best option combination, and then creates a model using those options."
   ]
  },
  {
   "cell_type": "code",
   "execution_count": null,
   "metadata": {},
   "outputs": [],
   "source": [
    "from sklearn.model_selection import GridSearchCV\n",
    "# Define the parameters to exanine and tune\n",
    "param_grid = {'C': [0.1, 1, 10, 100, 1000],\n",
    "              'coef0': [1, 0.1, 0.01, 0.001, 0.0001],\n",
    "              'kernel': ['rbf']}\n",
    "grid = GridSearchCV(SVC(), param_grid, refit = True, verbose = 3)\n",
    "grid.fit(X_train, y_train)"
   ]
  },
  {
   "cell_type": "markdown",
   "metadata": {},
   "source": [
    "#### Viewing the hyperparameter values selected\n",
    "Afterwards, we can list out the selected option combination and generate a model call with the parameters to use directly."
   ]
  },
  {
   "cell_type": "code",
   "execution_count": null,
   "metadata": {},
   "outputs": [],
   "source": [
    "print('Best parameters:', grid.best_params_)\n",
    "print('Model call:', grid.best_estimator_)"
   ]
  },
  {
   "cell_type": "markdown",
   "metadata": {},
   "source": [
    "#### Examining the results\n",
    "Since `grid` is the model with the selected option combination, it can be interacted with like any other model object."
   ]
  },
  {
   "cell_type": "code",
   "execution_count": null,
   "metadata": {},
   "outputs": [],
   "source": [
    "grid_pred = grid.predict(X_test)\n",
    "\n",
    "# print classification report\n",
    "print(\"Classification report:\\n\", classification_report(y_test, y_pred))"
   ]
  }
 ],
 "metadata": {
  "kernelspec": {
   "display_name": "Python 3",
   "language": "python",
   "name": "python3"
  },
  "language_info": {
   "codemirror_mode": {
    "name": "ipython",
    "version": 3
   },
   "file_extension": ".py",
   "mimetype": "text/x-python",
   "name": "python",
   "nbconvert_exporter": "python",
   "pygments_lexer": "ipython3",
   "version": "3.11.8"
  }
 },
 "nbformat": 4,
 "nbformat_minor": 4
}
